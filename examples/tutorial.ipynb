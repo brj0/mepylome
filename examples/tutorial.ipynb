{
 "cells": [
  {
   "cell_type": "markdown",
   "id": "295f2724",
   "metadata": {},
   "source": [
    "\n",
    "<img alt=\"Mepylome Logo\" src=\"https://raw.githubusercontent.com/brj0/mepylome/main/mepylome/data/assets/mepylome.svg\" width=\"300\">\n",
    "\n",
    "Mepylome Tutorial\n",
    "=================\n",
    "\n",
    "### Run This Notebook in Google Colab\n",
    "\n",
    "You can quickly open and run this notebook in Google Colab without any setup\n",
    "by clicking the link below.\n",
    "\n",
    "**Note**: The graphical user interface (GUI) features are limited in Google\n",
    "Colab.\n",
    "\n",
    "[![Open in Colab](https://colab.research.google.com/assets/colab-badge.svg)](https://colab.research.google.com/github/brj0/mepylome/blob/main/examples/tutorial.ipynb)\n",
    "\n",
    "\n",
    "This notebook was automatically generated from the corresponding py-file\n",
    "with:\n",
    "\n",
    "```bash\n",
    "jupytext --to ipynb tutorial.py\n",
    "```"
   ]
  },
  {
   "cell_type": "markdown",
   "id": "d91e74d3",
   "metadata": {},
   "source": [
    "-----------------------------------------------------------------------------\n",
    "### Install Required Packages\n",
    "\n",
    "To run the tutorial, install the following Python packages:\n",
    "- `mepylome` - the main toolkit for DNA-methylation analysis.\n",
    "- `linear_segment` - used for segmentation calculations in CNV plots.\n",
    "\n",
    "\n",
    "Install these packages (may take 1 to 2 minutes) using the command below:"
   ]
  },
  {
   "cell_type": "code",
   "execution_count": null,
   "id": "5a27144a",
   "metadata": {
    "lines_to_next_cell": 2
   },
   "outputs": [],
   "source": [
    "%%bash\n",
    "\n",
    "pip install -q mepylome linear_segment"
   ]
  },
  {
   "cell_type": "markdown",
   "id": "0e1c91a7",
   "metadata": {},
   "source": [
    "### Run Tutorial"
   ]
  },
  {
   "cell_type": "code",
   "execution_count": null,
   "id": "3afea7ff",
   "metadata": {},
   "outputs": [],
   "source": [
    "from pathlib import Path\n",
    "\n",
    "from mepylome.analysis import MethylAnalysis\n",
    "from mepylome.utils import setup_tutorial_files\n",
    "\n",
    "DIR = Path.home() / \"mepylome\" / \"tutorial\"\n",
    "ANALYSIS_DIR = DIR / \"tutorial_analysis\"\n",
    "REFERENCE_DIR = DIR / \"tutorial_reference\"\n",
    "\n",
    "setup_tutorial_files(ANALYSIS_DIR, REFERENCE_DIR)\n",
    "\n",
    "analysis = MethylAnalysis(\n",
    "    analysis_dir=ANALYSIS_DIR,\n",
    "    reference_dir=REFERENCE_DIR,\n",
    "    do_seg=True,\n",
    "    precompute_cnvs=True,\n",
    ")\n",
    "analysis_dir.make_umap()"
   ]
  },
  {
   "cell_type": "markdown",
   "id": "2980f811",
   "metadata": {},
   "source": [
    "### Graphical User Interface\n",
    "Note that the start button wont work if you run this notebook in Google Colab"
   ]
  },
  {
   "cell_type": "code",
   "execution_count": null,
   "id": "3bcd1b91",
   "metadata": {},
   "outputs": [],
   "source": [
    "analysis.run_app(open_tab=True)"
   ]
  }
 ],
 "metadata": {
  "jupytext": {
   "formats": "ipynb,py:percent"
  },
  "kernelspec": {
   "display_name": "Python 3 (ipykernel)",
   "language": "python",
   "name": "python3"
  }
 },
 "nbformat": 4,
 "nbformat_minor": 5
}
