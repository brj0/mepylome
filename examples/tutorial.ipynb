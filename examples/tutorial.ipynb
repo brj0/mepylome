{
 "cells": [
  {
   "cell_type": "markdown",
   "id": "bbe3451c",
   "metadata": {},
   "source": [
    "\n",
    "<img alt=\"Mepylome Logo\" src=\"https://raw.githubusercontent.com/brj0/mepylome/main/mepylome/data/assets/mepylome.svg\" width=\"300\">\n",
    "\n",
    "Mepylome Tutorial\n",
    "=================\n",
    "\n",
    "### Run This Notebook in Google Colab\n",
    "\n",
    "You can quickly open and run this notebook in Google Colab without any setup\n",
    "by clicking the link below.\n",
    "\n",
    "**Note**: The graphical user interface (GUI) features are limited in Google\n",
    "Colab.\n",
    "\n",
    "[![Open in Colab](https://colab.research.google.com/assets/colab-badge.svg)](https://colab.research.google.com/github/brj0/mepylome/blob/main/examples/tutorial.ipynb)\n",
    "\n",
    "\n",
    "This notebook was automatically generated from the corresponding py-file\n",
    "with:\n",
    "\n",
    "```bash\n",
    "jupytext --to ipynb tutorial.py\n",
    "```"
   ]
  },
  {
   "cell_type": "markdown",
   "id": "75a5282c",
   "metadata": {},
   "source": [
    "-----------------------------------------------------------------------------\n",
    "### Install Required Packages\n",
    "\n",
    "To run the tutorial, install the following Python packages:\n",
    "- `mepylome` - the main toolkit for DNA-methylation analysis.\n",
    "- `linear_segment` - used for segmentation calculations in CNV plots.\n",
    "\n",
    "\n",
    "Install these packages (may take 1 to 2 minutes) using the command below:"
   ]
  },
  {
   "cell_type": "code",
   "execution_count": null,
   "id": "31d1dcb7",
   "metadata": {
    "lines_to_next_cell": 2
   },
   "outputs": [],
   "source": [
    "%%bash\n",
    "\n",
    "pip install -q mepylome linear_segment"
   ]
  },
  {
   "cell_type": "markdown",
   "id": "7ee2b690",
   "metadata": {},
   "source": [
    "### Run Tutorial"
   ]
  },
  {
   "cell_type": "code",
   "execution_count": null,
   "id": "17887235",
   "metadata": {},
   "outputs": [],
   "source": [
    "from pathlib import Path\n",
    "\n",
    "from mepylome.analysis import MethylAnalysis\n",
    "from mepylome.utils import setup_tutorial_files\n",
    "\n",
    "DIR = Path.home() / \"mepylome\" / \"tutorial\"\n",
    "ANALYSIS_DIR = DIR / \"tutorial_analysis\"\n",
    "REFERENCE_DIR = DIR / \"tutorial_reference\"\n",
    "\n",
    "setup_tutorial_files(ANALYSIS_DIR, REFERENCE_DIR)\n",
    "\n",
    "analysis = MethylAnalysis(\n",
    "    analysis_dir=ANALYSIS_DIR,\n",
    "    reference_dir=REFERENCE_DIR,\n",
    "    do_seg=True,\n",
    "    precalculate_cnv=True,\n",
    ")\n",
    "analysis.make_umap()"
   ]
  },
  {
   "cell_type": "markdown",
   "id": "60d35b8b",
   "metadata": {},
   "source": [
    "### Graphical User Interface\n",
    "Note that the start button wont work if you run this notebook in Google Colab"
   ]
  },
  {
   "cell_type": "code",
   "execution_count": null,
   "id": "1c4b8e1f",
   "metadata": {},
   "outputs": [],
   "source": [
    "analysis.run_app(open_tab=True)"
   ]
  }
 ],
 "metadata": {
  "jupytext": {
   "formats": "ipynb,py:percent"
  },
  "kernelspec": {
   "display_name": "Python 3 (ipykernel)",
   "language": "python",
   "name": "python3"
  }
 },
 "nbformat": 4,
 "nbformat_minor": 5
}
