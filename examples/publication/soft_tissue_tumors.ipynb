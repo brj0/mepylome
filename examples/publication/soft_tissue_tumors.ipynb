{
 "cells": [
  {
   "cell_type": "markdown",
   "id": "0",
   "metadata": {},
   "source": [
    "\n",
    "<img alt=\"Mepylome Logo\" src=\"https://raw.githubusercontent.com/brj0/mepylome/main/mepylome/data/assets/mepylome.svg\" width=\"300\">\n",
    "\n",
    "Mepylome: A Toolkit for DNA-Methylation Analysis in Tumor Diagnostics\n",
    "=====================================================================\n",
    "\n",
    "This notebook automates the analysis outlined in the Mepylome publication,\n",
    "performing all necessary steps from downloading datasets to executing the\n",
    "analyses.\n",
    "\n",
    "\n",
    "### Usage\n",
    "\n",
    "- Follow the notebook/script step-by-step.\n",
    "\n",
    "\n",
    "### System Tested\n",
    "\n",
    "- *Operating System*: Ubuntu 20.04.6\n",
    "- *Python Version*: 3.12\n",
    "\n",
    "\n",
    "### Reference Publication (will follow)\n",
    "\n",
    "- *Authors*: Jon Brugger et al.\n",
    "\n",
    "\n",
    "### Run This Notebook in Google Colab\n",
    "\n",
    "You can quickly open and run this notebook in Google Colab without any setup\n",
    "by clicking the link below.\n",
    "\n",
    "**Note**: The graphical user interface (GUI) features are limited in Google\n",
    "Colab. If using the free version, memory constraints may arise. Additionally,\n",
    "long download operations  may face timeouts or interruptions.\n",
    "\n",
    "[![Open in Colab](https://colab.research.google.com/assets/colab-badge.svg)](https://colab.research.google.com/github/brj0/mepylome/blob/main/examples/publication/soft_tissue_tumors.ipynb)\n",
    "\n",
    "\n",
    "This notebook was automatically generated from the corresponding py-file\n",
    "with:\n",
    "\n",
    "```bash\n",
    "jupytext --to ipynb *.py\n",
    "```"
   ]
  },
  {
   "cell_type": "markdown",
   "id": "1",
   "metadata": {
    "lines_to_next_cell": 2
   },
   "source": [
    "-----------------------------------------------------------------------------\n",
    "## Contents\n",
    "0. **[Initialization](#0.-Initialization)**\n",
    "1. **[Data Loading](#1.-Data-Loading)**\n",
    "2. **[UMAP Calculation](#2.-UMAP-Calculation)**\n",
    "3. **[Supervised Classifier Training](#3.-Supervised-Classifier-Training)**\n",
    "4. **[CNV Analysis](#4.-CNV-Analysis)**"
   ]
  },
  {
   "cell_type": "markdown",
   "id": "2",
   "metadata": {},
   "source": [
    "-----------------------------------------------------------------------------\n",
    "<a name=\"0.-Initialization\"></a>\n",
    "## 0. Initialization\n",
    "\n",
    "### Install Required Packages\n",
    "\n",
    "To run the analysis, install the following Python packages:\n",
    "- `mepylome` for DNA-methylation analysis\n",
    "- `ruptures` for segmentation in CNV plots\n",
    "- `ipython`, `pillow`, and `ipywidgets` for interactive and graphical\n",
    "  functionality\n",
    "- `kaleido` for saving plots\n",
    "\n",
    "Install them (1-2 minutes) using:"
   ]
  },
  {
   "cell_type": "code",
   "execution_count": null,
   "id": "3",
   "metadata": {
    "lines_to_next_cell": 2
   },
   "outputs": [],
   "source": [
    "%%bash\n",
    "\n",
    "pip install mepylome ruptures ipython pillow ipywidgets kaleido"
   ]
  },
  {
   "cell_type": "markdown",
   "id": "4",
   "metadata": {},
   "source": [
    "### Core Imports, Configuration and main Functions"
   ]
  },
  {
   "cell_type": "code",
   "execution_count": null,
   "id": "5",
   "metadata": {
    "lines_to_next_cell": 2
   },
   "outputs": [],
   "source": [
    "import io\n",
    "import multiprocessing\n",
    "import os\n",
    "import platform\n",
    "import re\n",
    "import sys\n",
    "import tarfile\n",
    "import zipfile\n",
    "from pathlib import Path\n",
    "\n",
    "import numpy as np\n",
    "import pandas as pd\n",
    "import requests\n",
    "from IPython.display import Image as IPImage\n",
    "from PIL import Image\n",
    "\n",
    "from mepylome import ArrayType, Manifest, clear_cache\n",
    "from mepylome.analysis import MethylAnalysis\n",
    "from mepylome.dtypes.manifests import (\n",
    "    DOWNLOAD_DIR,\n",
    "    MANIFEST_URL,\n",
    "    REMOTE_FILENAME,\n",
    ")\n",
    "from mepylome.utils.files import (\n",
    "    download_file,\n",
    "    download_geo_probes,\n",
    ")\n",
    "\n",
    "# Define output font size for plots\n",
    "FONTSIZE = 23\n",
    "IMG_HEIGHT = 2000\n",
    "IMG_WIDTH = 1000\n",
    "GEO_URL = \"https://www.ncbi.nlm.nih.gov/geo/download/?acc={acc}&format=file\"\n",
    "\n",
    "# Define dataset URLs and filenames\n",
    "datasets = {\n",
    "    \"soft_tissue_tumors\": {\n",
    "        \"xlsx\": \"https://static-content.springer.com/esm/art%3A10.1038%2Fs41467-020-20603-4/MediaObjects/41467_2020_20603_MOESM4_ESM.xlsx\",\n",
    "        \"geo_ids\": [\"GSE140686\"],\n",
    "    },\n",
    "}\n",
    "\n",
    "# Determine basic storage directory depending on platform\n",
    "if \"COLAB_GPU\" in os.environ:\n",
    "    # Google Colab\n",
    "    mepylome_dir = Path(\"/content/mepylome\")\n",
    "elif Path(\"/mnt/bender\").exists():\n",
    "    # Bender-specific path\n",
    "    mepylome_dir = Path(\"/mnt/bender/mepylome\")\n",
    "else:\n",
    "    # Default for local Linux or other environments\n",
    "    mepylome_dir = Path.home() / \"mepylome\"\n",
    "\n",
    "\n",
    "data_dir = mepylome_dir / \"data\"\n",
    "output_dir = mepylome_dir / \"outputs\"\n",
    "reference_dir = mepylome_dir / \"cnv_references\"\n",
    "validation_dir = mepylome_dir / \"validation_data\"\n",
    "\n",
    "# Ensure the directory exists\n",
    "mepylome_dir.mkdir(parents=True, exist_ok=True)\n",
    "data_dir.mkdir(parents=True, exist_ok=True)\n",
    "output_dir.mkdir(parents=True, exist_ok=True)\n",
    "reference_dir.mkdir(parents=True, exist_ok=True)\n",
    "validation_dir.mkdir(parents=True, exist_ok=True)\n",
    "\n",
    "\n",
    "print(\"=== System Information ===\")\n",
    "print(f\"Python Version: {sys.version.split()[0]}\")\n",
    "print(f\"Platform: {platform.system()} {platform.release()}\")\n",
    "print(f\"Processor: {platform.processor()}\")\n",
    "print(f\"Number of CPUs: {multiprocessing.cpu_count()}\")\n",
    "print(f\"Data will be stored in: {mepylome_dir}\")\n",
    "\n",
    "\n",
    "# Main Functions\n",
    "\n",
    "\n",
    "def extract_tar(tar_path, output_directory):\n",
    "    \"\"\"Extracts tar file under 'tar_path' to 'output_directory'.\"\"\"\n",
    "    output_directory.mkdir(parents=True, exist_ok=True)\n",
    "    with tarfile.open(tar_path, \"r\") as tar:\n",
    "        tar.extractall(path=output_directory, filter=\"data\")\n",
    "        print(f\"Extracted {tar_path} to {output_directory}\")\n",
    "\n",
    "\n",
    "def download_from_geo_and_untar(analysis_dir, geo_ids):\n",
    "    \"\"\"Downloads all missing GEO files and untars them.\"\"\"\n",
    "    for geo_id in geo_ids:\n",
    "        idat_dir = analysis_dir / geo_id\n",
    "        if idat_dir.exists():\n",
    "            print(f\"Data for GEO ID {geo_id} already exists, skipping.\")\n",
    "            continue\n",
    "        try:\n",
    "            tar_path = analysis_dir / f\"{geo_id}.tar\"\n",
    "            geo_url = GEO_URL.format(acc=geo_id)\n",
    "            download_file(geo_url, tar_path)\n",
    "            extract_tar(tar_path, idat_dir)\n",
    "            tar_path.unlink()\n",
    "        except Exception as e:\n",
    "            print(f\"Error processing GEO ID {geo_id}: {e}\")\n",
    "\n",
    "\n",
    "def clean_filename(name):\n",
    "    \"\"\"Replace invalid characters with a single underscore.\"\"\"\n",
    "    return re.sub(r\"[^\\w\\-]+\", \"_\", name)\n",
    "\n",
    "\n",
    "def calculate_cn_summary(analysis, class_):\n",
    "    \"\"\"Calculates and saves CN summary plots.\"\"\"\n",
    "    df_class = analysis.idat_handler.samples_annotated[class_]\n",
    "    plot_list = []\n",
    "    analysis_dir = analysis.analysis_dir\n",
    "    all_classes = sorted(df_class.unique())\n",
    "    for methyl_class in all_classes:\n",
    "        df_index = df_class == methyl_class\n",
    "        sample_ids = df_class.index[df_index]\n",
    "        plot, _ = analysis.cn_summary(sample_ids)\n",
    "        plot.update_layout(\n",
    "            title=f\"{methyl_class}\",\n",
    "            title_x=0.5,\n",
    "            yaxis_title=\"Proportion of CNV gains/losses\",\n",
    "        )\n",
    "        plot.update_layout(\n",
    "            title_font_size=FONTSIZE + 3,\n",
    "            yaxis_title_font_size=FONTSIZE - 2,\n",
    "        )\n",
    "        plot_list.append(plot)\n",
    "    png_paths = [\n",
    "        output_dir / f\"{analysis_dir.name}_cn_summary_{clean_filename(x)}.png\"\n",
    "        for x in all_classes\n",
    "    ]\n",
    "    for path, fig in zip(png_paths, plot_list):\n",
    "        fig.write_image(path)\n",
    "    images = [Image.open(path) for path in png_paths]\n",
    "    width, height = images[0].size\n",
    "    n_columns = 4\n",
    "    n_images = len(images)\n",
    "    n_rows = (n_images + n_columns - 1) // n_columns\n",
    "    total_width = width * n_columns\n",
    "    total_height = height * n_rows\n",
    "    new_image = Image.new(\"RGB\", (total_width, total_height), (255, 255, 255))\n",
    "    for index, img in enumerate(images):\n",
    "        row = index // n_columns\n",
    "        col = index % n_columns\n",
    "        x = col * width\n",
    "        y = row * height\n",
    "        new_image.paste(img, (x, y))\n",
    "    output_path = output_dir / f\"{analysis_dir.name}_cn_summary.png\"\n",
    "    new_image.save(output_path)\n",
    "    return output_path"
   ]
  },
  {
   "cell_type": "markdown",
   "id": "6",
   "metadata": {
    "lines_to_next_cell": 2
   },
   "source": [
    "### Blacklist Generation for CpG Sites\n",
    "\n",
    "Some CpG sites should be excluded from the analysis. Here we choose probes\n",
    "flagged with `MFG_Change_Flagged` that should be excluded according to the\n",
    "manifest and those that are on sex chromosomes."
   ]
  },
  {
   "cell_type": "code",
   "execution_count": null,
   "id": "7",
   "metadata": {},
   "outputs": [],
   "source": [
    "def generate_blacklist_cpgs():\n",
    "    \"\"\"Returns and caches CpG sites that should be blacklisted.\"\"\"\n",
    "    print(\"Generating blacklist. Can take some time...\")\n",
    "    blacklist_path = data_dir / \"cpg_blacklist.csv\"\n",
    "    if not blacklist_path.exists():\n",
    "        manifest_url = MANIFEST_URL[ArrayType.ILLUMINA_EPIC]\n",
    "        DOWNLOAD_DIR.mkdir(parents=True, exist_ok=True)\n",
    "        response = requests.get(manifest_url)\n",
    "        html_sucess_ok_code = 200\n",
    "        if response.status_code == html_sucess_ok_code:\n",
    "            with zipfile.ZipFile(io.BytesIO(response.content)) as thezip:\n",
    "                thezip.extractall(DOWNLOAD_DIR)\n",
    "        else:\n",
    "            msg = f\"Failed to download the file: {response.status_code}\"\n",
    "            raise RuntimeError(msg)\n",
    "        csv_path = DOWNLOAD_DIR / REMOTE_FILENAME[ArrayType.ILLUMINA_EPIC]\n",
    "        manifest_df = pd.read_csv(csv_path, skiprows=7, low_memory=False)\n",
    "        flagged_cpgs = manifest_df[\n",
    "            manifest_df[\"MFG_Change_Flagged\"].fillna(False)\n",
    "        ][\"IlmnID\"]\n",
    "        flagged_cpgs.to_csv(blacklist_path, index=False, header=False)\n",
    "        csv_path.unlink()\n",
    "    blacklist_df = pd.read_csv(blacklist_path, header=None)\n",
    "    print(\"Generating blacklist done.\")\n",
    "    return set(blacklist_df.iloc[:, 0])\n",
    "\n",
    "\n",
    "def sex_chromosome_cpgs():\n",
    "    \"\"\"Returns CpGs on sex chromosomes for EPIC and 450k arrays.\"\"\"\n",
    "    manifest = Manifest(\"epic\")\n",
    "    sex_cpgs_epic = manifest.data_frame[\n",
    "        manifest.data_frame.Chromosome.isin([23, 24])\n",
    "    ].IlmnID\n",
    "    manifest = Manifest(\"450k\")\n",
    "    sex_cpgs_450k = manifest.data_frame[\n",
    "        manifest.data_frame.Chromosome.isin([23, 24])\n",
    "    ].IlmnID\n",
    "    return set(sex_cpgs_epic) | set(sex_cpgs_450k)\n",
    "\n",
    "\n",
    "# Choose CpG list that should be blacklisted\n",
    "blacklist = generate_blacklist_cpgs() | sex_chromosome_cpgs()"
   ]
  },
  {
   "cell_type": "markdown",
   "id": "8",
   "metadata": {},
   "source": [
    "### CNV-Neutral Reference Samples\n",
    "\n",
    "For generating copy number variation (CNV) plots, a sufficiently large set of\n",
    "CNV-neutral reference probes is required. Here, we use control probes from\n",
    "[Koelsche et al. (2021)](https://doi.org/10.1038/s41467-020-20603-4). These\n",
    "probes are stored in the designated reference_dir.\n",
    "\n",
    "**Best Practices**:\n",
    "- Include both fresh-frozen and FFPE (formalin-fixed paraffin-embedded)\n",
    "  samples in the copy-neutral reference set for optimal results."
   ]
  },
  {
   "cell_type": "code",
   "execution_count": null,
   "id": "9",
   "metadata": {
    "lines_to_next_cell": 2
   },
   "outputs": [],
   "source": [
    "cn_neutral_probes = [\n",
    "    \"GSM4180453_201904410008_R06C01\",\n",
    "    \"GSM4180454_201904410008_R05C01\",\n",
    "    \"GSM4180455_201904410008_R04C01\",\n",
    "    \"GSM4180456_201904410008_R03C01\",\n",
    "    \"GSM4180457_201904410008_R02C01\",\n",
    "    \"GSM4180458_201904410008_R01C01\",\n",
    "    \"GSM4180459_201904410007_R08C01\",\n",
    "    \"GSM4180460_201904410007_R07C01\",\n",
    "    \"GSM4180741_201247480004_R05C01\",\n",
    "    \"GSM4180742_201247480004_R04C01\",\n",
    "    \"GSM4180743_201247480004_R03C01\",\n",
    "    \"GSM4180751_201194010006_R01C01\",\n",
    "    \"GSM4180909_200394870074_R04C02\",\n",
    "    \"GSM4180910_200394870074_R03C02\",\n",
    "    \"GSM4180911_200394870074_R02C02\",\n",
    "    \"GSM4180912_200394870074_R01C02\",\n",
    "    \"GSM4180913_200394870074_R05C01\",\n",
    "    \"GSM4180914_200394870074_R04C01\",\n",
    "    \"GSM4181456_203049640041_R03C01\",\n",
    "    \"GSM4181509_203049640040_R07C01\",\n",
    "    \"GSM4181510_203049640040_R08C01\",\n",
    "    \"GSM4181511_203049640041_R01C01\",\n",
    "    \"GSM4181512_203049640041_R02C01\",\n",
    "    \"GSM4181513_203049640041_R04C01\",\n",
    "    \"GSM4181514_203049640041_R05C01\",\n",
    "    \"GSM4181515_203049640041_R06C01\",\n",
    "    \"GSM4181516_203049640041_R07C01\",\n",
    "    \"GSM4181517_203049640041_R08C01\",\n",
    "]\n",
    "\n",
    "download_geo_probes(reference_dir, cn_neutral_probes)"
   ]
  },
  {
   "cell_type": "markdown",
   "id": "10",
   "metadata": {},
   "source": [
    "-----------------------------------------------------------------------------\n",
    "<a name=\"1.-Data-Loading\"></a>\n",
    "## 1. Data Loading\n",
    "\n",
    "This section replicates the methylation analysis performed in [Koelsche et\n",
    "al. (2021)](https://doi.org/10.1038/s41467-020-20603-4). To begin, we\n",
    "download the required data and organize it within the designated directories."
   ]
  },
  {
   "cell_type": "code",
   "execution_count": null,
   "id": "11",
   "metadata": {
    "lines_to_next_cell": 2
   },
   "outputs": [],
   "source": [
    "# Initialize directories.\n",
    "tumor_site = \"soft_tissue_tumors\"\n",
    "analysis_dir = data_dir / tumor_site\n",
    "test_dir = validation_dir / tumor_site\n",
    "\n",
    "test_dir.mkdir(parents=True, exist_ok=True)\n",
    "analysis_dir.mkdir(parents=True, exist_ok=True)\n",
    "\n",
    "# Download the annotation spreadsheet.\n",
    "if not (excel_path := analysis_dir / f\"{tumor_site}.xlsx\").exists():\n",
    "    download_file(datasets[tumor_site][\"xlsx\"], excel_path)\n",
    "\n",
    "# Download the IDAT files.\n",
    "download_from_geo_and_untar(analysis_dir, datasets[tumor_site][\"geo_ids\"])"
   ]
  },
  {
   "cell_type": "markdown",
   "id": "12",
   "metadata": {},
   "source": [
    "### Create the Methylation Analysis Object\n",
    "\n",
    "The `MethylAnalysis` object serves as the main interface for performing DNA\n",
    "methylation analysis. Key parameters such as the directory structure, number\n",
    "of CpG sites, and UMAP settings are configured here."
   ]
  },
  {
   "cell_type": "code",
   "execution_count": null,
   "id": "13",
   "metadata": {},
   "outputs": [],
   "source": [
    "analysis = MethylAnalysis(\n",
    "    analysis_dir=analysis_dir,\n",
    "    reference_dir=reference_dir,\n",
    "    output_dir=output_dir,\n",
    "    n_cpgs=25000,\n",
    "    load_full_betas=True,\n",
    "    overlap=False,\n",
    "    cpgs=\"450k+epic+epicv2\",\n",
    "    cpg_blacklist=blacklist,\n",
    "    debug=False,\n",
    "    do_seg=True,\n",
    "    umap_parms={\n",
    "        \"metric\": \"manhattan\",\n",
    "    },\n",
    ")"
   ]
  },
  {
   "cell_type": "markdown",
   "id": "14",
   "metadata": {},
   "source": [
    "### Load Beta Values\n",
    "\n",
    "Reads and processes beta values from the provided dataset. This step is\n",
    "optional and primarily demonstrates the time required for processing. If not\n",
    "performed here, it will be automatically executed in the background when\n",
    "needed."
   ]
  },
  {
   "cell_type": "code",
   "execution_count": null,
   "id": "15",
   "metadata": {
    "lines_to_next_cell": 2
   },
   "outputs": [],
   "source": [
    "analysis.set_betas()"
   ]
  },
  {
   "cell_type": "markdown",
   "id": "16",
   "metadata": {},
   "source": [
    "-----------------------------------------------------------------------------\n",
    "<a name=\"2.-UMAP-Calculation\"></a>\n",
    "## 2. UMAP Calculation\n",
    "\n",
    "### Generate UMAP Plot\n",
    "\n",
    "Set the columns used for coloring the UMAP plot before initiating the\n",
    "dimensionality reduction process. The UMAP algorithm produces a visual\n",
    "representation of the sample clusters, which is stored as a Plotly object in\n",
    "`analysis.umap_plot`."
   ]
  },
  {
   "cell_type": "code",
   "execution_count": null,
   "id": "17",
   "metadata": {},
   "outputs": [],
   "source": [
    "# Calculate UMAP\n",
    "analysis.idat_handler.selected_columns = [\"Methylation Class Name\"]\n",
    "analysis.make_umap()"
   ]
  },
  {
   "cell_type": "code",
   "execution_count": null,
   "id": "18",
   "metadata": {},
   "outputs": [],
   "source": [
    "# Show the results\n",
    "print(analysis.umap_df)"
   ]
  },
  {
   "cell_type": "code",
   "execution_count": null,
   "id": "19",
   "metadata": {
    "lines_to_next_cell": 2
   },
   "outputs": [],
   "source": [
    "# Generate and show image\n",
    "output_path = output_dir / f\"{analysis_dir.name}_umap_plot.jpg\"\n",
    "analysis.umap_plot.write_image(\n",
    "    output_path,\n",
    "    format=\"jpg\",\n",
    "    width=IMG_HEIGHT,\n",
    "    height=IMG_WIDTH,\n",
    "    scale=1,\n",
    ")\n",
    "IPImage(filename=output_path)"
   ]
  },
  {
   "cell_type": "markdown",
   "id": "20",
   "metadata": {},
   "source": [
    "### Launch the Analysis GUI\n",
    "\n",
    "Initializes an interactive GUI for further exploration of the methylation\n",
    "data.\n",
    "\n",
    "**Note:** This step works best in local environments and may have limitations\n",
    "on platforms like Google Colab or Binder."
   ]
  },
  {
   "cell_type": "code",
   "execution_count": null,
   "id": "21",
   "metadata": {
    "lines_to_next_cell": 2
   },
   "outputs": [],
   "source": [
    "analysis.run_app(open_tab=True)"
   ]
  },
  {
   "cell_type": "markdown",
   "id": "22",
   "metadata": {},
   "source": [
    "On memory-limited platforms such as Google Colab, we need to manually free up\n",
    "memory between operations to avoid crashes."
   ]
  },
  {
   "cell_type": "code",
   "execution_count": null,
   "id": "23",
   "metadata": {
    "lines_to_next_cell": 2
   },
   "outputs": [],
   "source": [
    "# Free memory\n",
    "clear_cache()"
   ]
  },
  {
   "cell_type": "markdown",
   "id": "24",
   "metadata": {},
   "source": [
    "-----------------------------------------------------------------------------\n",
    "<a name=\"3.-Supervised-Classifier-Training\"></a>\n",
    "## 3. Supervised Classifier Training\n",
    "\n",
    "### Supervised Classifier Validation\n",
    "\n",
    "The next step involves validating various supervised classification\n",
    "algorithms to evaluate their performance on the dataset. This process helps\n",
    "identify the most accurate model for methylation-based classification.\n",
    "\n",
    "**Note**:\n",
    "Training is resource- and time-intensive. The process may take up to 10\n",
    "minutes, depending on the computational resources available."
   ]
  },
  {
   "cell_type": "code",
   "execution_count": null,
   "id": "25",
   "metadata": {},
   "outputs": [],
   "source": [
    "# Train supervised classifiers\n",
    "analysis.idat_handler.selected_columns = [\"Methylation Class Name\"]\n",
    "ids = analysis.idat_handler.ids\n",
    "clf_out = analysis.classify(\n",
    "    ids=ids,\n",
    "    clf_list=[\n",
    "        # Classifiers optimized for low-memory platforms (e.g. Google Colab)\n",
    "        \"top-kbest(k=10000)-et\",\n",
    "        \"top-kbest(k=10000)-lr(max_iter=10000)\",\n",
    "        \"top-kbest(k=10000)-rf\",\n",
    "        # \"vtl-kbest(k=10000)-et\",\n",
    "        # \"vtl-kbest(k=10000)-lr(max_iter=10000)\",\n",
    "        # \"vtl-kbest(k=10000)-rf\",\n",
    "    ],\n",
    ")"
   ]
  },
  {
   "cell_type": "code",
   "execution_count": null,
   "id": "26",
   "metadata": {},
   "outputs": [],
   "source": [
    "# Print reports for all classifier for the first sample\n",
    "for clf_result in clf_out:\n",
    "    print(clf_result.reports[\"txt\"][0])\n",
    "    print()"
   ]
  },
  {
   "cell_type": "code",
   "execution_count": null,
   "id": "27",
   "metadata": {},
   "outputs": [],
   "source": [
    "# Identify and display the best classifier\n",
    "best_clf = max(\n",
    "    clf_out, key=lambda result: np.mean(result.metrics[\"accuracy_scores\"])\n",
    ")\n",
    "print(\"Most accurate classifier:\")\n",
    "print(best_clf.reports[\"txt\"][0])"
   ]
  },
  {
   "cell_type": "code",
   "execution_count": null,
   "id": "28",
   "metadata": {
    "lines_to_next_cell": 2
   },
   "outputs": [],
   "source": [
    "# Free memory\n",
    "clear_cache()"
   ]
  },
  {
   "cell_type": "markdown",
   "id": "29",
   "metadata": {},
   "source": [
    "-----------------------------------------------------------------------------\n",
    "<a name=\"4.-CNV-Analysis\"></a>\n",
    "## 4. CNV Analysis\n",
    "\n",
    "### Generate and Save CNV Plot\n",
    "\n",
    "Creates a copy number variation (CNV) plot for a specified sample and saves\n",
    "the output as an image."
   ]
  },
  {
   "cell_type": "code",
   "execution_count": null,
   "id": "30",
   "metadata": {},
   "outputs": [],
   "source": [
    "# Save CNV example\n",
    "analysis.make_cnv_plot(\"3999112131_R05C01\")\n",
    "cnv_plot = analysis.cnv_plot\n",
    "cnv_plot.update_layout(\n",
    "    yaxis_range=[-1.1, 1.1],\n",
    "    font={\"size\": FONTSIZE},\n",
    "    margin={\"t\": 50},\n",
    ")\n",
    "output_path = output_dir / f\"{analysis_dir.name}_cnv_plot.jpg\"\n",
    "cnv_plot.write_image(\n",
    "    output_path,\n",
    "    format=\"jpg\",\n",
    "    width=IMG_HEIGHT,\n",
    "    height=IMG_WIDTH,\n",
    "    scale=1,\n",
    ")\n",
    "IPImage(filename=output_path)"
   ]
  },
  {
   "cell_type": "markdown",
   "id": "31",
   "metadata": {},
   "source": [
    "### Generate CNV Summary Plots\n",
    "\n",
    "In addition to individual CNV plots, this step computes summary plots to\n",
    "highlight genomic alterations across multiple samples.\n",
    "\n",
    "**Note**:\n",
    "Generating all copy number variation (CNV) plots is resource- and\n",
    "time-intensive. The process can take a significant amount of time, depending\n",
    "on the computational resources available."
   ]
  },
  {
   "cell_type": "code",
   "execution_count": null,
   "id": "32",
   "metadata": {},
   "outputs": [],
   "source": [
    "analysis.precompute_cnvs()\n",
    "cn_summary_path = calculate_cn_summary(analysis, \"Methylation Class Name\")"
   ]
  },
  {
   "cell_type": "code",
   "execution_count": null,
   "id": "33",
   "metadata": {},
   "outputs": [],
   "source": [
    "IPImage(filename=cn_summary_path)"
   ]
  }
 ],
 "metadata": {
  "jupytext": {
   "formats": "ipynb,py:percent"
  },
  "kernelspec": {
   "display_name": "Python 3 (ipykernel)",
   "language": "python",
   "name": "python3"
  },
  "language_info": {
   "codemirror_mode": {
    "name": "ipython",
    "version": 3
   },
   "file_extension": ".py",
   "mimetype": "text/x-python",
   "name": "python",
   "nbconvert_exporter": "python",
   "pygments_lexer": "ipython3",
   "version": "3.12.9"
  }
 },
 "nbformat": 4,
 "nbformat_minor": 5
}
