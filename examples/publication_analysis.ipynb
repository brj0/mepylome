{
 "cells": [
  {
   "cell_type": "markdown",
   "id": "3de1c3dc",
   "metadata": {},
   "source": [
    "\n",
    "<img alt=\"Mepylome Logo\" src=\"https://raw.githubusercontent.com/brj0/mepylome/main/mepylome/data/assets/mepylome.svg\" width=\"300\">\n",
    "\n",
    "Mepylome: A Toolkit for DNA-Methylation Analysis in Tumor Diagnostics\n",
    "=====================================================================\n",
    "\n",
    "This notebook automates the analysis outlined in the Mepylome publication,\n",
    "performing all necessary steps from downloading datasets to executing the\n",
    "analyses.\n",
    "\n",
    "\n",
    "### Usage\n",
    "\n",
    "- All datasets and outputs are saved in `~/mepylome`.\n",
    "- Follow the notebook/script step-by-step for an in-depth understanding of\n",
    "  the workflow and results.\n",
    "\n",
    "\n",
    "### System Requirements\n",
    "\n",
    "- *Operating System*: Ubuntu 20.04.6\n",
    "- *Python Version*: 3.12\n",
    "\n",
    "\n",
    "### Reference Publication (will follow)\n",
    "\n",
    "- *Title*: Mepylome: A User-Friendly Open-Source Toolkit for DNA-Methylation\n",
    "  Analysis in Tumor Diagnostics\n",
    "- *Author*: Jon Brugger et al.\n",
    "\n",
    "\n",
    "### Run This Notebook in Google Colab\n",
    "\n",
    "You can quickly open and run this notebook in Google Colab without any setup\n",
    "by clicking the link below.\n",
    "\n",
    "**Note**: The graphical user interface (GUI) features won't run in Colab, but\n",
    "the rest of the analysis will work as expected.\n",
    "\n",
    "[![Open in Colab](https://colab.research.google.com/assets/colab-badge.svg)](https://colab.research.google.com/github/brj0/mepylome/blob/main/examples/publication_analysis.ipynb)\n",
    "\n",
    "\n",
    "This notebook was automatically generated from the corresponding py-file\n",
    "with:\n",
    "\n",
    "```bash\n",
    "jupytext --to ipynb publication_analysis.py\n",
    "```\n",
    "\n",
    "\n",
    "-----------------------------------------------------------------------------"
   ]
  },
  {
   "cell_type": "markdown",
   "id": "06550165",
   "metadata": {
    "lines_to_next_cell": 2
   },
   "source": [
    "## Contents\n",
    "0. **[Initialization](#0.-Initialization)**\n",
    "1. **[Salivary Gland Tumors](#1.-Salivary-Gland-Tumors)**\n",
    "2. **[Soft Tissue Tumors](#2.-Soft-Tissue-Tumors)**\n",
    "3. **[Squamous Cell Carcinoma](#3.-Squamous-Cell-Carcinoma)**"
   ]
  },
  {
   "cell_type": "markdown",
   "id": "789e2eaa",
   "metadata": {},
   "source": [
    "-----------------------------------------------------------------------------\n",
    "<a name=\"0.-Initialization\"></a>\n",
    "## 0. Initialization\n",
    "\n",
    "### Install Required Packages\n",
    "\n",
    "To run the analysis, install the following Python packages:\n",
    "- `mepylome` – the main toolkit for DNA-methylation analysis.\n",
    "- `linear_segment` – used for segmentation calculations in CNV plots.\n",
    "- `kaleido` for saving plots.\n",
    "\n",
    "Install these packages using the commands below:"
   ]
  },
  {
   "cell_type": "code",
   "execution_count": null,
   "id": "e679e511",
   "metadata": {},
   "outputs": [],
   "source": [
    "%%bash\n",
    "pip install mepylome\n",
    "pip install linear_segment\n",
    "pip install -U kaleido"
   ]
  },
  {
   "cell_type": "markdown",
   "id": "e37979e4",
   "metadata": {},
   "source": [
    "### Core Imports, Configuration and main Functions"
   ]
  },
  {
   "cell_type": "code",
   "execution_count": null,
   "id": "0b8ec02c",
   "metadata": {
    "lines_to_next_cell": 2
   },
   "outputs": [],
   "source": [
    "import io\n",
    "import os\n",
    "import tarfile\n",
    "import zipfile\n",
    "from pathlib import Path\n",
    "\n",
    "import numpy as np\n",
    "import pandas as pd\n",
    "import requests\n",
    "from PIL import Image\n",
    "\n",
    "from mepylome import ArrayType, Manifest\n",
    "from mepylome.analysis import MethylAnalysis\n",
    "from mepylome.dtypes.manifests import (\n",
    "    DOWNLOAD_DIR,\n",
    "    MANIFEST_URL,\n",
    "    REMOTE_FILENAME,\n",
    ")\n",
    "from mepylome.utils import ensure_directory_exists\n",
    "from mepylome.utils.files import (\n",
    "    download_file,\n",
    "    download_geo_probes,\n",
    "    get_resource_path,\n",
    ")\n",
    "\n",
    "# Define output font size for plots\n",
    "FONTSIZE = 23\n",
    "GEO_URL = \"https://www.ncbi.nlm.nih.gov/geo/download/?acc={acc}&format=file\"\n",
    "\n",
    "# Define dataset URLs and filenames\n",
    "datasets = {\n",
    "    \"salivary_gland_tumors\": {\n",
    "        \"xlsx\": \"https://ars.els-cdn.com/content/image/1-s2.0-S0893395224002059-mmc4.xlsx\",\n",
    "        \"geo_id\": [\"GSE243075\"],\n",
    "    },\n",
    "    \"soft_tissue_tumors\": {\n",
    "        \"xlsx\": \"https://static-content.springer.com/esm/art%3A10.1038%2Fs41467-020-20603-4/MediaObjects/41467_2020_20603_MOESM4_ESM.xlsx\",\n",
    "        \"geo_id\": [\"GSE140686\"],\n",
    "    },\n",
    "    \"sinonasal_tumors\": {\n",
    "        \"xlsx\": \"https://static-content.springer.com/esm/art%3A10.1038%2Fs41467-022-34815-3/MediaObjects/41467_2022_34815_MOESM6_ESM.xlsx\",\n",
    "        \"geo_id\": [\"GSE196228\"],\n",
    "    },\n",
    "    \"head_and_neck_scc\": {\n",
    "        \"xlsx\": \"https://www.science.org/doi/suppl/10.1126/scitranslmed.aaw8513/suppl_file/aaw8513_data_file_s1.xlsx\",\n",
    "        \"geo_id\": [\"GSE124633\"],\n",
    "    },\n",
    "}\n",
    "\n",
    "# Determine basic storage directory depending on platform\n",
    "if \"COLAB_GPU\" in os.environ:\n",
    "    # Google Colab\n",
    "    mepylome_dir = Path(\"/content/mepylome\")\n",
    "elif os.path.exists(\"/mnt/bender\"):\n",
    "    # Bender-specific path\n",
    "    mepylome_dir = Path(\"/mnt/bender/mepylome\")\n",
    "else:\n",
    "    # Default for local Linux or other environments\n",
    "    mepylome_dir = Path.home() / \"mepylome\"\n",
    "\n",
    "# Ensure the directory exists\n",
    "os.makedirs(mepylome_dir, exist_ok=True)\n",
    "os.environ[\"MEPYLOME_DIR\"] = str(mepylome_dir)\n",
    "print(f\"Data will be stored in: {mepylome_dir}\")\n",
    "\n",
    "data_dir = mepylome_dir / \"data\"\n",
    "output_dir = mepylome_dir / \"out\"\n",
    "reference_dir = mepylome_dir / \"cn_neutral_idats\"\n",
    "tests_dir = mepylome_dir / \"tests\"\n",
    "\n",
    "ensure_directory_exists(data_dir)\n",
    "ensure_directory_exists(output_dir)\n",
    "ensure_directory_exists(reference_dir)\n",
    "ensure_directory_exists(tests_dir)\n",
    "\n",
    "# Main Funktions\n",
    "\n",
    "\n",
    "def extract_tar(tar_path, output_directory):\n",
    "    \"\"\"Extracts tar file under 'tar_path' to 'output_directory'.\"\"\"\n",
    "    output_directory.mkdir(exist_ok=True)\n",
    "    with tarfile.open(tar_path, \"r\") as tar:\n",
    "        tar.extractall(path=output_directory, filter=None)\n",
    "        print(f\"Extracted {tar_path} to {output_directory}\")\n",
    "\n",
    "\n",
    "def download_from_geo_and_untar(analysis_dir, geo_ids):\n",
    "    \"\"\"Downloads all missing GEO files and untars them.\"\"\"\n",
    "    for geo_id in geo_ids:\n",
    "        idat_dir = analysis_dir / geo_id\n",
    "        if idat_dir.exists():\n",
    "            print(f\"Data for GEO ID {geo_id} already exists, skipping.\")\n",
    "            continue\n",
    "        try:\n",
    "            tar_path = analysis_dir / f\"{geo_id}.tar\"\n",
    "            geo_url = GEO_URL.format(acc=geo_id)\n",
    "            download_file(geo_url, tar_path)\n",
    "            extract_tar(tar_path, idat_dir)\n",
    "            tar_path.unlink()\n",
    "        except Exception as e:\n",
    "            print(f\"Error processing GEO ID {geo_id}: {e}\")\n",
    "\n",
    "\n",
    "def calculate_cn_summary(class_):\n",
    "    \"\"\"Calculates and saves CN summary plots.\"\"\"\n",
    "    df_class = analysis.idat_handler.samples_annotated[class_]\n",
    "    plot_list = []\n",
    "    all_classes = sorted(df_class.unique())\n",
    "    for methyl_class in all_classes:\n",
    "        df_index = df_class == methyl_class\n",
    "        sample_ids = df_class.index[df_index]\n",
    "        plot, df_cn_summary = analysis.cn_summary(sample_ids)\n",
    "        plot.update_layout(\n",
    "            title=f\"{methyl_class}\",\n",
    "            title_x=0.5,\n",
    "            yaxis_title=\"Proportion of CNV gains/losses\",\n",
    "        )\n",
    "        plot.update_layout(\n",
    "            title_font_size=FONTSIZE + 3,\n",
    "            yaxis_title_font_size=FONTSIZE - 2,\n",
    "        )\n",
    "        plot_list.append(plot)\n",
    "    png_paths = [\n",
    "        output_dir / f\"{analysis_dir.name}-cn_summary-{x}.png\"\n",
    "        for x in all_classes\n",
    "    ]\n",
    "    for path, fig in zip(png_paths, plot_list):\n",
    "        fig.write_image(path)\n",
    "    images = [Image.open(path) for path in png_paths]\n",
    "    width, height = images[0].size\n",
    "    n_columns = 4\n",
    "    n_images = len(images)\n",
    "    n_rows = (n_images + n_columns - 1) // n_columns\n",
    "    total_width = width * n_columns\n",
    "    total_height = height * n_rows\n",
    "    new_image = Image.new(\"RGB\", (total_width, total_height), (255, 255, 255))\n",
    "    for index, img in enumerate(images):\n",
    "        row = index // n_columns\n",
    "        col = index % n_columns\n",
    "        x = col * width\n",
    "        y = row * height\n",
    "        new_image.paste(img, (x, y))\n",
    "    new_image.save(output_dir / f\"{analysis_dir.name}-cn_summary.png\")"
   ]
  },
  {
   "cell_type": "markdown",
   "id": "77b25cd5",
   "metadata": {
    "lines_to_next_cell": 2
   },
   "source": [
    "### Blacklist Generation for CpG Sites\n",
    "\n",
    "Some CpG sites should be excluded from the analysis. Here we choose probes\n",
    "flagged with `MFG_Change_Flagged` that should be excluded according to the\n",
    "manifest and those that are on sex chromosomes."
   ]
  },
  {
   "cell_type": "code",
   "execution_count": null,
   "id": "e157e225",
   "metadata": {},
   "outputs": [],
   "source": [
    "def generate_blacklist_cpgs():\n",
    "    \"\"\"Returns and caches CpG sites that should be blacklisted.\"\"\"\n",
    "    print(\"Generate blacklist. Can take some time...\")\n",
    "    blacklist_path = data_dir / \"cpg_blacklist.csv\"\n",
    "    if not blacklist_path.exists():\n",
    "        manifest_url = MANIFEST_URL[ArrayType.ILLUMINA_EPIC]\n",
    "        ensure_directory_exists(DOWNLOAD_DIR)\n",
    "        response = requests.get(manifest_url)\n",
    "        html_sucess_ok_code = 200\n",
    "        if response.status_code == html_sucess_ok_code:\n",
    "            with zipfile.ZipFile(io.BytesIO(response.content)) as thezip:\n",
    "                thezip.extractall(DOWNLOAD_DIR)\n",
    "        else:\n",
    "            raise Exception(\n",
    "                f\"Failed to download the file: {response.status_code}\"\n",
    "            )\n",
    "        csv_path = DOWNLOAD_DIR / REMOTE_FILENAME[ArrayType.ILLUMINA_EPIC]\n",
    "        manifest_df = pd.read_csv(csv_path, skiprows=7)\n",
    "        flagged_cpgs = manifest_df[\n",
    "            manifest_df[\"MFG_Change_Flagged\"].fillna(False)\n",
    "        ][\"IlmnID\"]\n",
    "        flagged_cpgs.to_csv(blacklist_path, index=False, header=False)\n",
    "        csv_path.unlink()\n",
    "    blacklist = pd.read_csv(blacklist_path, header=None)\n",
    "    return set(blacklist.iloc[:, 0])\n",
    "\n",
    "\n",
    "def sex_chromosome_cpgs():\n",
    "    \"\"\"Returns CpGs on sex chromosomes for EPIC and 450k arrays.\"\"\"\n",
    "    manifest = Manifest(\"epic\")\n",
    "    sex_cpgs_epic = manifest.data_frame[\n",
    "        manifest.data_frame.Chromosome.isin([23, 24])\n",
    "    ].IlmnID\n",
    "    manifest = Manifest(\"450k\")\n",
    "    sex_cpgs_450k = manifest.data_frame[\n",
    "        manifest.data_frame.Chromosome.isin([23, 24])\n",
    "    ].IlmnID\n",
    "    return set(sex_cpgs_epic) | set(sex_cpgs_450k)\n",
    "\n",
    "\n",
    "# Choose CpG list that should be blacklisted\n",
    "blacklist = generate_blacklist_cpgs() | sex_chromosome_cpgs()"
   ]
  },
  {
   "cell_type": "markdown",
   "id": "ddc7196c",
   "metadata": {},
   "source": [
    "### Copy-Neutral Reference Probes\n",
    "\n",
    "To ensure accurate analysis, we utilize control probes from the [Koelsche2021\n",
    "study](https://doi.org/10.1038/s41467-020-20603-4). These probes are stored\n",
    "in the designated reference directory `reference_dir`.\n",
    "\n",
    "**Best Practices**:\n",
    "- Include both fresh-frozen and FFPE (formalin-fixed paraffin-embedded)\n",
    "  samples in the copy-neutral reference set for optimal results."
   ]
  },
  {
   "cell_type": "code",
   "execution_count": null,
   "id": "d2ef6660",
   "metadata": {
    "lines_to_next_cell": 2
   },
   "outputs": [],
   "source": [
    "cn_neutral_probes = [\n",
    "    \"GSM4180453_201904410008_R06C01\",\n",
    "    \"GSM4180454_201904410008_R05C01\",\n",
    "    \"GSM4180455_201904410008_R04C01\",\n",
    "    \"GSM4180456_201904410008_R03C01\",\n",
    "    \"GSM4180457_201904410008_R02C01\",\n",
    "    \"GSM4180458_201904410008_R01C01\",\n",
    "    \"GSM4180459_201904410007_R08C01\",\n",
    "    \"GSM4180460_201904410007_R07C01\",\n",
    "    \"GSM4180741_201247480004_R05C01\",\n",
    "    \"GSM4180742_201247480004_R04C01\",\n",
    "    \"GSM4180743_201247480004_R03C01\",\n",
    "    \"GSM4180751_201194010006_R01C01\",\n",
    "    \"GSM4180909_200394870074_R04C02\",\n",
    "    \"GSM4180910_200394870074_R03C02\",\n",
    "    \"GSM4180911_200394870074_R02C02\",\n",
    "    \"GSM4180912_200394870074_R01C02\",\n",
    "    \"GSM4180913_200394870074_R05C01\",\n",
    "    \"GSM4180914_200394870074_R04C01\",\n",
    "    \"GSM4181456_203049640041_R03C01\",\n",
    "    \"GSM4181509_203049640040_R07C01\",\n",
    "    \"GSM4181510_203049640040_R08C01\",\n",
    "    \"GSM4181511_203049640041_R01C01\",\n",
    "    \"GSM4181512_203049640041_R02C01\",\n",
    "    \"GSM4181513_203049640041_R04C01\",\n",
    "    \"GSM4181514_203049640041_R05C01\",\n",
    "    \"GSM4181515_203049640041_R06C01\",\n",
    "    \"GSM4181516_203049640041_R07C01\",\n",
    "    \"GSM4181517_203049640041_R08C01\",\n",
    "]\n",
    "\n",
    "download_geo_probes(reference_dir, cn_neutral_probes)"
   ]
  },
  {
   "cell_type": "markdown",
   "id": "b7508e4c",
   "metadata": {},
   "source": [
    "-----------------------------------------------------------------------------\n",
    "<a name=\"1.-Salivary-Gland-Tumors\"></a>\n",
    "## 1. Salivary Gland Tumors\n",
    "\n",
    "This section replicates the methylation analysis performed in the study by\n",
    "[Jurmeister2024](https://doi.org/10.1016/j.modpat.2024.100625). To begin, we\n",
    "download the required data and organize it within the designated directories."
   ]
  },
  {
   "cell_type": "code",
   "execution_count": null,
   "id": "9d8be38e",
   "metadata": {
    "lines_to_next_cell": 2
   },
   "outputs": [],
   "source": [
    "# Initialize directories.\n",
    "tumor_site = \"salivary_gland_tumors\"\n",
    "analysis_dir = data_dir / tumor_site\n",
    "test_dir = tests_dir / tumor_site\n",
    "\n",
    "ensure_directory_exists(test_dir)\n",
    "ensure_directory_exists(analysis_dir)\n",
    "\n",
    "# Download the the annotation spreadsheet.\n",
    "if not (excel_path := analysis_dir / f\"{tumor_site}-annotation.xlsx\").exists():\n",
    "    download_file(datasets[tumor_site][\"xlsx\"], excel_path)\n",
    "    # Deletes the first 2 rows (useless description).\n",
    "    pd.read_excel(excel_path, skiprows=2).to_excel(excel_path, index=False)\n",
    "\n",
    "# Download the IDAT files.\n",
    "download_from_geo_and_untar(analysis_dir, datasets[tumor_site][\"geo_id\"])"
   ]
  },
  {
   "cell_type": "markdown",
   "id": "8ecfacfd",
   "metadata": {},
   "source": [
    "### Create the Methylation Analysis Object\n",
    "\n",
    "The `MethylAnalysis` object serves as the main interface for performing DNA\n",
    "methylation analysis. Key parameters such as the directory structure, number\n",
    "of CpG sites, and UMAP settings are configured here."
   ]
  },
  {
   "cell_type": "code",
   "execution_count": null,
   "id": "c59cd74a",
   "metadata": {
    "lines_to_next_cell": 2
   },
   "outputs": [],
   "source": [
    "analysis = MethylAnalysis(\n",
    "    analysis_dir=analysis_dir,\n",
    "    reference_dir=reference_dir,\n",
    "    output_dir=output_dir,\n",
    "    test_dir=test_dir,\n",
    "    n_cpgs=25000,\n",
    "    load_full_betas=True,\n",
    "    overlap=False,\n",
    "    cpg_blacklist=blacklist,\n",
    "    debug=True,\n",
    "    do_seg=True,\n",
    "    umap_parms={\n",
    "        \"n_neighbors\": 8,\n",
    "        \"metric\": \"manhattan\",\n",
    "        \"min_dist\": 0.3,\n",
    "    },\n",
    ")"
   ]
  },
  {
   "cell_type": "markdown",
   "id": "23461102",
   "metadata": {},
   "source": [
    "### Load Beta Values\n",
    "\n",
    "Reads and processes beta values from the provided dataset. This step can also\n",
    "be performed interactively within the GUI."
   ]
  },
  {
   "cell_type": "code",
   "execution_count": null,
   "id": "956cbea8",
   "metadata": {
    "lines_to_next_cell": 2
   },
   "outputs": [],
   "source": [
    "analysis.set_betas()"
   ]
  },
  {
   "cell_type": "markdown",
   "id": "a3a0ddbe",
   "metadata": {},
   "source": [
    "### Generate UMAP Plot\n",
    "\n",
    "Set the columns used for coloring the UMAP plot before initiating the\n",
    "dimensionality reduction process. The UMAP algorithm produces a visual\n",
    "representation of the sample clusters, which is stored as a Plotly object in\n",
    "`analysis.umap_plot`."
   ]
  },
  {
   "cell_type": "code",
   "execution_count": null,
   "id": "21519203",
   "metadata": {},
   "outputs": [],
   "source": [
    "analysis.idat_handler.selected_columns = [\"Methylation class\"]\n",
    "analysis.make_umap()\n",
    "\n",
    "# Show the results\n",
    "print(analysis.umap_df)\n",
    "analysis.umap_plot.show()"
   ]
  },
  {
   "cell_type": "markdown",
   "id": "8552d40c",
   "metadata": {},
   "source": [
    "### Launch the Analysis GUI\n",
    "\n",
    "Initializes an interactive GUI for further exploration of the methylation\n",
    "data.\n",
    "\n",
    "**Note**: This step is only supported in local environments (not in\n",
    "cloud-based platforms like Google Colab or Binder)."
   ]
  },
  {
   "cell_type": "code",
   "execution_count": null,
   "id": "68317f88",
   "metadata": {
    "lines_to_next_cell": 2
   },
   "outputs": [],
   "source": [
    "analysis.run_app(open_tab=True)"
   ]
  },
  {
   "cell_type": "markdown",
   "id": "fd25d9a1",
   "metadata": {},
   "source": [
    "### Generate and Save CNV Plot\n",
    "\n",
    "Creates a copy number variation (CNV) plot for a specified sample and saves\n",
    "the output as a high-resolution image."
   ]
  },
  {
   "cell_type": "code",
   "execution_count": null,
   "id": "f46215d5",
   "metadata": {},
   "outputs": [],
   "source": [
    "# Save CNV example\n",
    "analysis.make_cnv_plot(\"206842050057_R06C01\")\n",
    "cnv_plot = analysis.cnv_plot\n",
    "cnv_plot.update_layout(\n",
    "    yaxis_range=[-1.1, 1.1],\n",
    "    font={\"size\": FONTSIZE},\n",
    "    margin={\"t\": 50},\n",
    ")\n",
    "cnv_plot.write_image(\n",
    "    output_dir / f\"{analysis_dir.name}-cnv_plot.jpg\",\n",
    "    format=\"jpg\",\n",
    "    width=2000,\n",
    "    height=1000,\n",
    "    scale=2,\n",
    ")"
   ]
  },
  {
   "cell_type": "markdown",
   "id": "46a449cd",
   "metadata": {},
   "source": [
    "### Generate CNV Summary Plots\n",
    "\n",
    "In addition to individual CNV plots, this step computes summary plots to\n",
    "highlight genomic alterations across multiple samples.\n",
    "\n",
    "**Note**:\n",
    "Generating all copy number variation (CNV) plots can be resource-intensive.\n",
    "The process may take up to 30 minutes, depending on the computational\n",
    "resources available."
   ]
  },
  {
   "cell_type": "code",
   "execution_count": null,
   "id": "fec571d7",
   "metadata": {},
   "outputs": [],
   "source": [
    "analysis.precompute_cnvs()\n",
    "calculate_cn_summary(\"Methylation class\")"
   ]
  },
  {
   "cell_type": "markdown",
   "id": "94c8d079",
   "metadata": {},
   "source": [
    "### Supervised Classifier Validation\n",
    "\n",
    "The next step involves validating various supervised classification\n",
    "algorithms to evaluate their performance on the dataset. This process helps\n",
    "identify the most accurate model for methylation-based classification.\n",
    "\n",
    "**Note**:\n",
    "Training can be resource-intensive. The process may take up to 10 minutes,\n",
    "depending on the computational resources available."
   ]
  },
  {
   "cell_type": "code",
   "execution_count": null,
   "id": "360ec456",
   "metadata": {
    "lines_to_next_cell": 2
   },
   "outputs": [],
   "source": [
    "# Validate supervised classifiers\n",
    "ids = analysis.idat_handler.ids\n",
    "clf_out = analysis.classify(\n",
    "    ids=ids,\n",
    "    clf_list=[\n",
    "        \"none-kbest-et\",\n",
    "        \"none-kbest-lr\",\n",
    "        \"none-kbest-rf\",\n",
    "        \"none-kbest-svc_rbf\",\n",
    "        \"none-pca-lr\",\n",
    "        \"none-pca-et\",\n",
    "        \"none-none-knn\",\n",
    "    ],\n",
    ")\n",
    "\n",
    "# Print reports for all classifier for the first sample\n",
    "for clf_result in clf_out:\n",
    "    print(clf_result.reports[0])\n",
    "\n",
    "# Identify and display the best classifier\n",
    "best_clf = max(\n",
    "    clf_out, key=lambda result: np.mean(result.metrics[\"accuracy_scores\"])\n",
    ")\n",
    "print(\"Most accurate classifier:\")\n",
    "print(best_clf.reports[0])"
   ]
  },
  {
   "cell_type": "markdown",
   "id": "aa8dea1a",
   "metadata": {},
   "source": [
    "-----------------------------------------------------------------------------\n",
    "<a name=\"2.-Soft-Tissue-Tumors\"></a>\n",
    "## 2. Soft Tissue Tumors\n",
    "\n",
    "This section replicates the methylation analysis performed in the study by\n",
    "[Koelsche2021 study](https://doi.org/10.1038/s41467-020-20603-4). To begin,\n",
    "we download the required data and organize it within the designated\n",
    "directories."
   ]
  },
  {
   "cell_type": "code",
   "execution_count": null,
   "id": "759884c8",
   "metadata": {
    "lines_to_next_cell": 2
   },
   "outputs": [],
   "source": [
    "# Initialize directories.\n",
    "tumor_site = \"soft_tissue_tumors\"\n",
    "analysis_dir = data_dir / tumor_site\n",
    "test_dir = tests_dir / tumor_site\n",
    "\n",
    "ensure_directory_exists(test_dir)\n",
    "ensure_directory_exists(analysis_dir)\n",
    "\n",
    "# Download the the annotation spreadsheet.\n",
    "if not (excel_path := analysis_dir / f\"{tumor_site}-annotation.xlsx\").exists():\n",
    "    download_file(datasets[tumor_site][\"xlsx\"], excel_path)\n",
    "\n",
    "# Download the IDAT files.\n",
    "download_from_geo_and_untar(analysis_dir, datasets[tumor_site][\"geo_id\"])"
   ]
  },
  {
   "cell_type": "markdown",
   "id": "e943e117",
   "metadata": {},
   "source": [
    "### Create the Methylation Analysis Object\n",
    "\n",
    "The `MethylAnalysis` object serves as the main interface for performing DNA\n",
    "methylation analysis. Key parameters such as the directory structure, number\n",
    "of CpG sites, and UMAP settings are configured here."
   ]
  },
  {
   "cell_type": "code",
   "execution_count": null,
   "id": "3087e4ca",
   "metadata": {},
   "outputs": [],
   "source": [
    "analysis = MethylAnalysis(\n",
    "    analysis_dir=analysis_dir,\n",
    "    reference_dir=reference_dir,\n",
    "    output_dir=output_dir,\n",
    "    n_cpgs=25000,\n",
    "    load_full_betas=True,\n",
    "    overlap=False,\n",
    "    cpg_blacklist=blacklist,\n",
    "    debug=True,\n",
    "    do_seg=True,\n",
    "    umap_parms={\n",
    "        \"n_neighbors\": 8,\n",
    "        \"metric\": \"manhattan\",\n",
    "        \"min_dist\": 0.3,\n",
    "    },\n",
    ")"
   ]
  },
  {
   "cell_type": "markdown",
   "id": "b3304eaf",
   "metadata": {},
   "source": [
    "### Load Beta Values\n",
    "\n",
    "Reads and processes beta values from the provided dataset. This step can also\n",
    "be performed interactively within the GUI."
   ]
  },
  {
   "cell_type": "code",
   "execution_count": null,
   "id": "ebfe5f25",
   "metadata": {
    "lines_to_next_cell": 2
   },
   "outputs": [],
   "source": [
    "analysis.set_betas()"
   ]
  },
  {
   "cell_type": "markdown",
   "id": "b11aead1",
   "metadata": {},
   "source": [
    "### Generate UMAP Plot\n",
    "\n",
    "Set the columns used for coloring the UMAP plot before initiating the\n",
    "dimensionality reduction process. The UMAP algorithm produces a visual\n",
    "representation of the sample clusters, which is stored as a Plotly object in\n",
    "`analysis.umap_plot`."
   ]
  },
  {
   "cell_type": "code",
   "execution_count": null,
   "id": "9abdb145",
   "metadata": {},
   "outputs": [],
   "source": [
    "analysis.idat_handler.selected_columns = [\"Methylation Class Name\"]\n",
    "analysis.make_umap()\n",
    "\n",
    "# Show the results\n",
    "print(analysis.umap_df)\n",
    "analysis.umap_plot.show()"
   ]
  },
  {
   "cell_type": "markdown",
   "id": "aa5dba24",
   "metadata": {},
   "source": [
    "### Launch the Analysis GUI\n",
    "\n",
    "Initializes an interactive GUI for further exploration of the methylation\n",
    "data.\n",
    "\n",
    "**Note**: This step is only supported in local environments (not in\n",
    "cloud-based platforms like Google Colab or Binder)."
   ]
  },
  {
   "cell_type": "code",
   "execution_count": null,
   "id": "d63f60e8",
   "metadata": {
    "lines_to_next_cell": 2
   },
   "outputs": [],
   "source": [
    "analysis.run_app(open_tab=True)"
   ]
  },
  {
   "cell_type": "markdown",
   "id": "368254a6",
   "metadata": {},
   "source": [
    "### Generate and Save CNV Plot\n",
    "\n",
    "Creates a copy number variation (CNV) plot for a specified sample and saves\n",
    "the output as a high-resolution image."
   ]
  },
  {
   "cell_type": "code",
   "execution_count": null,
   "id": "6ab1d7d8",
   "metadata": {},
   "outputs": [],
   "source": [
    "# Save CNV example\n",
    "analysis.make_cnv_plot(\"3999112131_R05C01\")\n",
    "cnv_plot = analysis.cnv_plot\n",
    "cnv_plot.update_layout(\n",
    "    yaxis_range=[-1.1, 1.1],\n",
    "    font={\"size\": FONTSIZE},\n",
    "    margin={\"t\": 50},\n",
    ")\n",
    "cnv_plot.write_image(\n",
    "    output_dir / f\"{analysis_dir.name}-cnv_plot.jpg\",\n",
    "    format=\"jpg\",\n",
    "    width=2000,\n",
    "    height=1000,\n",
    "    scale=2,\n",
    ")"
   ]
  },
  {
   "cell_type": "markdown",
   "id": "df084c38",
   "metadata": {},
   "source": [
    "### Generate CNV Summary Plots\n",
    "\n",
    "In addition to individual CNV plots, this step computes summary plots to\n",
    "highlight genomic alterations across multiple samples.\n",
    "\n",
    "**Note**:\n",
    "Generating all copy number variation (CNV) plots can be resource-intensive.\n",
    "The process may take up to 30 minutes, depending on the computational\n",
    "resources available."
   ]
  },
  {
   "cell_type": "code",
   "execution_count": null,
   "id": "54c07433",
   "metadata": {},
   "outputs": [],
   "source": [
    "analysis.precompute_cnvs()\n",
    "calculate_cn_summary(\"Methylation class\")"
   ]
  },
  {
   "cell_type": "markdown",
   "id": "e3664b2a",
   "metadata": {},
   "source": [
    "### Supervised Classifier Validation\n",
    "\n",
    "The next step involves validating various supervised classification\n",
    "algorithms to evaluate their performance on the dataset. This process helps\n",
    "identify the most accurate model for methylation-based classification.\n",
    "\n",
    "**Note**:\n",
    "Training can be resource-intensive. The process may take up to 10 minutes,\n",
    "depending on the computational resources available."
   ]
  },
  {
   "cell_type": "code",
   "execution_count": null,
   "id": "faf291bc",
   "metadata": {
    "lines_to_next_cell": 2
   },
   "outputs": [],
   "source": [
    "# Validate supervised classifiers\n",
    "ids = analysis.idat_handler.ids\n",
    "clf_out = analysis.classify(\n",
    "    ids=ids,\n",
    "    clf_list=[\n",
    "        \"none-kbest-et\",\n",
    "        \"none-kbest-lr\",\n",
    "        \"none-kbest-rf\",\n",
    "        \"none-kbest-svc_rbf\",\n",
    "        \"none-pca-lr\",\n",
    "        \"none-pca-et\",\n",
    "        \"none-none-knn\",\n",
    "    ],\n",
    ")\n",
    "\n",
    "# Print reports for all classifier for the first sample\n",
    "for clf_result in clf_out:\n",
    "    print(clf_result.reports[0])\n",
    "\n",
    "# Identify and display the best classifier\n",
    "best_clf = max(\n",
    "    clf_out, key=lambda result: np.mean(result.metrics[\"accuracy_scores\"])\n",
    ")\n",
    "print(\"Most accurate classifier:\")\n",
    "print(best_clf.reports[0])"
   ]
  },
  {
   "cell_type": "markdown",
   "id": "8c305e03",
   "metadata": {},
   "source": [
    "-----------------------------------------------------------------------------\n",
    "<a name=\"3.-Squamous-Cell-Carcinoma\"></a>\n",
    "## 3. Squamous Cell Carcinoma"
   ]
  },
  {
   "cell_type": "markdown",
   "id": "d5ab5037",
   "metadata": {},
   "source": [
    "Step 1: Download and setup GDC client"
   ]
  },
  {
   "cell_type": "code",
   "execution_count": 1,
   "id": "0206912d",
   "metadata": {
    "execution": {
     "iopub.execute_input": "2024-12-09T06:53:58.155485Z",
     "iopub.status.busy": "2024-12-09T06:53:58.155217Z",
     "iopub.status.idle": "2024-12-09T06:54:04.391090Z",
     "shell.execute_reply": "2024-12-09T06:54:04.390741Z",
     "shell.execute_reply.started": "2024-12-09T06:53:58.155468Z"
    }
   },
   "outputs": [
    {
     "name": "stdout",
     "output_type": "stream",
     "text": [
      "Downloading GDC client...\n",
      "GDC client binary downloaded and set up at /home/bruggerj/Documents/mepylome/gdc-client\n"
     ]
    }
   ],
   "source": [
    "%%bash\n",
    "# Define the variables\n",
    "GDC_CLIENT_URL=\"https://gdc.cancer.gov/system/files/public/file/gdc-client_2.3_Ubuntu_x64-py3.8-ubuntu-20.04.zip\"\n",
    "GDC_CLIENT_DIR=\"$HOME/mepylome\"\n",
    "GDC_CLIENT_BIN=\"$GDC_CLIENT_DIR/gdc-client\"\n",
    "\n",
    "# Download and set up the GDC client\n",
    "if [ ! -f \"$GDC_CLIENT_BIN\" ]; then\n",
    "    mkdir -p \"$GDC_CLIENT_DIR\"\n",
    "    cd \"$GDC_CLIENT_DIR\"\n",
    "    echo \"Downloading GDC client...\"\n",
    "    wget -q \"$GDC_CLIENT_URL\" -P \"$GDC_CLIENT_DIR\"\n",
    "    unzip -qo \"$GDC_CLIENT_DIR/*.zip\" -d \"$GDC_CLIENT_DIR\"\n",
    "    unzip -qo \"$GDC_CLIENT_DIR/*.zip\" -d \"$GDC_CLIENT_DIR\" > /dev/null 2>&1\n",
    "    rm -f \"$GDC_CLIENT_DIR\"/gdc-client*.zip\n",
    "    echo \"GDC client binary downloaded and set up at $GDC_CLIENT_BIN\"\n",
    "else\n",
    "    echo \"GDC client already exists at $GDC_CLIENT_BIN\"\n",
    "fi"
   ]
  },
  {
   "cell_type": "code",
   "execution_count": 1,
   "id": "214ef661",
   "metadata": {
    "execution": {
     "iopub.execute_input": "2024-12-10T08:59:35.430921Z",
     "iopub.status.busy": "2024-12-10T08:59:35.430710Z",
     "iopub.status.idle": "2024-12-10T08:59:35.607765Z",
     "shell.execute_reply": "2024-12-10T08:59:35.607206Z",
     "shell.execute_reply.started": "2024-12-10T08:59:35.430908Z"
    }
   },
   "outputs": [
    {
     "name": "stdout",
     "output_type": "stream",
     "text": [
      "Setting up TCGA SCC directory...\n",
      "gdc_manifest.2024-12-09.081939.txt\n",
      "gdc_sample_sheet.2024-12-09.tsv\n",
      "metadata.cart.2024-12-09.json\n",
      "sample.tsv\n",
      "clinical.tsv\n",
      "Setting up TCGA SCC directory done.\n",
      "Data directory already exists. Skipping download and setup.\n"
     ]
    },
    {
     "name": "stderr",
     "output_type": "stream",
     "text": [
      "bash: line 37: https://doi.org/10.1126/scitranslmed.aaw8513: No such file or directory\n",
      "bash: line 38: GSE85566: command not found\n",
      "bash: line 39: GSE56044: command not found\n",
      "bash: line 40: GSE79556: command not found\n",
      "bash: line 41: GSE95036: command not found\n",
      "bash: line 42: syntax error near unexpected token `('\n",
      "bash: line 42: `anno = get_resource_path(\"mepylome\").parent / \"examples\" / \"data\" / \"GSE95036-annotation.tsv\"'\n"
     ]
    },
    {
     "ename": "CalledProcessError",
     "evalue": "Command 'b'# Define the variables\\nTCGA_SCC_DIR=\"$HOME/Documents/mepylome/data/tcga_scc\"\\nDOWNLOAD_COMPLETE=\"$TCGA_SCC_DIR/.download_complete\"\\nGDC_CLIENT_BIN=\"$HOME/Documents/mepylome/gdc-client\"\\nTAR_FILE_PATH=\"$HOME/Documents/mepylome/data/tcga_scc_anno.tar.gz\"\\n\\n# Check if the data directory exists\\nmkdir -p \"$TCGA_SCC_DIR\"\\nif [ -f \"$TAR_FILE_PATH\" ]; then\\n    echo \"Setting up TCGA SCC directory...\"\\n    cd \"$TCGA_SCC_DIR\" || exit 1\\n    cp -f \"$TAR_FILE_PATH\" .\\n    TAR_FILE_NAME=$(basename \"$TAR_FILE_PATH\")\\n    tar xvzf \"$TAR_FILE_NAME\"\\n    echo \"Setting up TCGA SCC directory done.\"\\nelse\\n    echo \"Error: TAR file not found at $TAR_FILE_PATH\"\\n    exit 1\\nfi\\n\\nif [ ! -f \"$DOWNLOAD_COMPLETE\" ]; then\\n    echo \"Download has not been completed yet.\"\\n    if [ -x \"$GDC_CLIENT_BIN\" ]; then\\n        echo \"Downloading TCGA files. This may take some time!\"\\n        \"$GDC_CLIENT_BIN\" download -m gdc_manifest* -d \"$TCGA_SCC_DIR\" \\\\\\n            || { echo \"Download failed\"; exit 1; }\\n        echo \"Download finished.\"\\n        touch \"$DOWNLOAD_COMPLETE\"\\n    else\\n        echo \"Error: GDC client not found at $GDC_CLIENT_BIN\"\\n        exit 1\\n    fi\\nelse\\n    echo \"Data directory already exists. Skipping download and setup.\"\\nfi\\n\\nhttps://doi.org/10.1126/scitranslmed.aaw8513\\nGSE85566 # Normal_Lung\\nGSE56044 # No IDAT\\nGSE79556 # Oral_Tongue_SCC\\nGSE95036\\nanno = get_resource_path(\"mepylome\").parent / \"examples\" / \"data\" / \"GSE95036-annotation.tsv\"\\nanno_df = pd.read_csv(anno, sep=\"\\\\t\")\\nGSE66836\\nGSE39279\\nGSE87053\\nGSE39279\\nGSE124052\\n\\nhttps://doi.org/10.1002/ijc.32890\\nGSE124633\\n'' returned non-zero exit status 2.",
     "output_type": "error",
     "traceback": [
      "\u001b[0;31m---------------------------------------------------------------------------\u001b[0m",
      "\u001b[0;31mCalledProcessError\u001b[0m                        Traceback (most recent call last)",
      "Cell \u001b[0;32mIn[1], line 1\u001b[0m\n\u001b[0;32m----> 1\u001b[0m \u001b[43mget_ipython\u001b[49m\u001b[43m(\u001b[49m\u001b[43m)\u001b[49m\u001b[38;5;241;43m.\u001b[39;49m\u001b[43mrun_cell_magic\u001b[49m\u001b[43m(\u001b[49m\u001b[38;5;124;43m'\u001b[39;49m\u001b[38;5;124;43mbash\u001b[39;49m\u001b[38;5;124;43m'\u001b[39;49m\u001b[43m,\u001b[49m\u001b[43m \u001b[49m\u001b[38;5;124;43m'\u001b[39;49m\u001b[38;5;124;43m'\u001b[39;49m\u001b[43m,\u001b[49m\u001b[43m \u001b[49m\u001b[38;5;124;43m'\u001b[39;49m\u001b[38;5;124;43m# Define the variables\u001b[39;49m\u001b[38;5;130;43;01m\\n\u001b[39;49;00m\u001b[38;5;124;43mTCGA_SCC_DIR=\u001b[39;49m\u001b[38;5;124;43m\"\u001b[39;49m\u001b[38;5;124;43m$HOME/Documents/mepylome/data/tcga_scc\u001b[39;49m\u001b[38;5;124;43m\"\u001b[39;49m\u001b[38;5;130;43;01m\\n\u001b[39;49;00m\u001b[38;5;124;43mDOWNLOAD_COMPLETE=\u001b[39;49m\u001b[38;5;124;43m\"\u001b[39;49m\u001b[38;5;124;43m$TCGA_SCC_DIR/.download_complete\u001b[39;49m\u001b[38;5;124;43m\"\u001b[39;49m\u001b[38;5;130;43;01m\\n\u001b[39;49;00m\u001b[38;5;124;43mGDC_CLIENT_BIN=\u001b[39;49m\u001b[38;5;124;43m\"\u001b[39;49m\u001b[38;5;124;43m$HOME/Documents/mepylome/gdc-client\u001b[39;49m\u001b[38;5;124;43m\"\u001b[39;49m\u001b[38;5;130;43;01m\\n\u001b[39;49;00m\u001b[38;5;124;43mTAR_FILE_PATH=\u001b[39;49m\u001b[38;5;124;43m\"\u001b[39;49m\u001b[38;5;124;43m$HOME/Documents/mepylome/data/tcga_scc_anno.tar.gz\u001b[39;49m\u001b[38;5;124;43m\"\u001b[39;49m\u001b[38;5;130;43;01m\\n\u001b[39;49;00m\u001b[38;5;130;43;01m\\n\u001b[39;49;00m\u001b[38;5;124;43m# Check if the data directory exists\u001b[39;49m\u001b[38;5;130;43;01m\\n\u001b[39;49;00m\u001b[38;5;124;43mmkdir -p \u001b[39;49m\u001b[38;5;124;43m\"\u001b[39;49m\u001b[38;5;124;43m$TCGA_SCC_DIR\u001b[39;49m\u001b[38;5;124;43m\"\u001b[39;49m\u001b[38;5;130;43;01m\\n\u001b[39;49;00m\u001b[38;5;124;43mif [ -f \u001b[39;49m\u001b[38;5;124;43m\"\u001b[39;49m\u001b[38;5;124;43m$TAR_FILE_PATH\u001b[39;49m\u001b[38;5;124;43m\"\u001b[39;49m\u001b[38;5;124;43m ]; then\u001b[39;49m\u001b[38;5;130;43;01m\\n\u001b[39;49;00m\u001b[38;5;124;43m    echo \u001b[39;49m\u001b[38;5;124;43m\"\u001b[39;49m\u001b[38;5;124;43mSetting up TCGA SCC directory...\u001b[39;49m\u001b[38;5;124;43m\"\u001b[39;49m\u001b[38;5;130;43;01m\\n\u001b[39;49;00m\u001b[38;5;124;43m    cd \u001b[39;49m\u001b[38;5;124;43m\"\u001b[39;49m\u001b[38;5;124;43m$TCGA_SCC_DIR\u001b[39;49m\u001b[38;5;124;43m\"\u001b[39;49m\u001b[38;5;124;43m || exit 1\u001b[39;49m\u001b[38;5;130;43;01m\\n\u001b[39;49;00m\u001b[38;5;124;43m    cp -f \u001b[39;49m\u001b[38;5;124;43m\"\u001b[39;49m\u001b[38;5;124;43m$TAR_FILE_PATH\u001b[39;49m\u001b[38;5;124;43m\"\u001b[39;49m\u001b[38;5;124;43m .\u001b[39;49m\u001b[38;5;130;43;01m\\n\u001b[39;49;00m\u001b[38;5;124;43m    TAR_FILE_NAME=$(basename \u001b[39;49m\u001b[38;5;124;43m\"\u001b[39;49m\u001b[38;5;124;43m$TAR_FILE_PATH\u001b[39;49m\u001b[38;5;124;43m\"\u001b[39;49m\u001b[38;5;124;43m)\u001b[39;49m\u001b[38;5;130;43;01m\\n\u001b[39;49;00m\u001b[38;5;124;43m    tar xvzf \u001b[39;49m\u001b[38;5;124;43m\"\u001b[39;49m\u001b[38;5;124;43m$TAR_FILE_NAME\u001b[39;49m\u001b[38;5;124;43m\"\u001b[39;49m\u001b[38;5;130;43;01m\\n\u001b[39;49;00m\u001b[38;5;124;43m    echo \u001b[39;49m\u001b[38;5;124;43m\"\u001b[39;49m\u001b[38;5;124;43mSetting up TCGA SCC directory done.\u001b[39;49m\u001b[38;5;124;43m\"\u001b[39;49m\u001b[38;5;130;43;01m\\n\u001b[39;49;00m\u001b[38;5;124;43melse\u001b[39;49m\u001b[38;5;130;43;01m\\n\u001b[39;49;00m\u001b[38;5;124;43m    echo \u001b[39;49m\u001b[38;5;124;43m\"\u001b[39;49m\u001b[38;5;124;43mError: TAR file not found at $TAR_FILE_PATH\u001b[39;49m\u001b[38;5;124;43m\"\u001b[39;49m\u001b[38;5;130;43;01m\\n\u001b[39;49;00m\u001b[38;5;124;43m    exit 1\u001b[39;49m\u001b[38;5;130;43;01m\\n\u001b[39;49;00m\u001b[38;5;124;43mfi\u001b[39;49m\u001b[38;5;130;43;01m\\n\u001b[39;49;00m\u001b[38;5;130;43;01m\\n\u001b[39;49;00m\u001b[38;5;124;43mif [ ! -f \u001b[39;49m\u001b[38;5;124;43m\"\u001b[39;49m\u001b[38;5;124;43m$DOWNLOAD_COMPLETE\u001b[39;49m\u001b[38;5;124;43m\"\u001b[39;49m\u001b[38;5;124;43m ]; then\u001b[39;49m\u001b[38;5;130;43;01m\\n\u001b[39;49;00m\u001b[38;5;124;43m    echo \u001b[39;49m\u001b[38;5;124;43m\"\u001b[39;49m\u001b[38;5;124;43mDownload has not been completed yet.\u001b[39;49m\u001b[38;5;124;43m\"\u001b[39;49m\u001b[38;5;130;43;01m\\n\u001b[39;49;00m\u001b[38;5;124;43m    if [ -x \u001b[39;49m\u001b[38;5;124;43m\"\u001b[39;49m\u001b[38;5;124;43m$GDC_CLIENT_BIN\u001b[39;49m\u001b[38;5;124;43m\"\u001b[39;49m\u001b[38;5;124;43m ]; then\u001b[39;49m\u001b[38;5;130;43;01m\\n\u001b[39;49;00m\u001b[38;5;124;43m        echo \u001b[39;49m\u001b[38;5;124;43m\"\u001b[39;49m\u001b[38;5;124;43mDownloading TCGA files. This may take some time!\u001b[39;49m\u001b[38;5;124;43m\"\u001b[39;49m\u001b[38;5;130;43;01m\\n\u001b[39;49;00m\u001b[38;5;124;43m        \u001b[39;49m\u001b[38;5;124;43m\"\u001b[39;49m\u001b[38;5;124;43m$GDC_CLIENT_BIN\u001b[39;49m\u001b[38;5;124;43m\"\u001b[39;49m\u001b[38;5;124;43m download -m gdc_manifest* -d \u001b[39;49m\u001b[38;5;124;43m\"\u001b[39;49m\u001b[38;5;124;43m$TCGA_SCC_DIR\u001b[39;49m\u001b[38;5;124;43m\"\u001b[39;49m\u001b[38;5;124;43m \u001b[39;49m\u001b[38;5;130;43;01m\\\\\u001b[39;49;00m\u001b[38;5;130;43;01m\\n\u001b[39;49;00m\u001b[38;5;124;43m            || \u001b[39;49m\u001b[38;5;124;43m{\u001b[39;49m\u001b[38;5;124;43m echo \u001b[39;49m\u001b[38;5;124;43m\"\u001b[39;49m\u001b[38;5;124;43mDownload failed\u001b[39;49m\u001b[38;5;124;43m\"\u001b[39;49m\u001b[38;5;124;43m; exit 1; }\u001b[39;49m\u001b[38;5;130;43;01m\\n\u001b[39;49;00m\u001b[38;5;124;43m        echo \u001b[39;49m\u001b[38;5;124;43m\"\u001b[39;49m\u001b[38;5;124;43mDownload finished.\u001b[39;49m\u001b[38;5;124;43m\"\u001b[39;49m\u001b[38;5;130;43;01m\\n\u001b[39;49;00m\u001b[38;5;124;43m        touch \u001b[39;49m\u001b[38;5;124;43m\"\u001b[39;49m\u001b[38;5;124;43m$DOWNLOAD_COMPLETE\u001b[39;49m\u001b[38;5;124;43m\"\u001b[39;49m\u001b[38;5;130;43;01m\\n\u001b[39;49;00m\u001b[38;5;124;43m    else\u001b[39;49m\u001b[38;5;130;43;01m\\n\u001b[39;49;00m\u001b[38;5;124;43m        echo \u001b[39;49m\u001b[38;5;124;43m\"\u001b[39;49m\u001b[38;5;124;43mError: GDC client not found at $GDC_CLIENT_BIN\u001b[39;49m\u001b[38;5;124;43m\"\u001b[39;49m\u001b[38;5;130;43;01m\\n\u001b[39;49;00m\u001b[38;5;124;43m        exit 1\u001b[39;49m\u001b[38;5;130;43;01m\\n\u001b[39;49;00m\u001b[38;5;124;43m    fi\u001b[39;49m\u001b[38;5;130;43;01m\\n\u001b[39;49;00m\u001b[38;5;124;43melse\u001b[39;49m\u001b[38;5;130;43;01m\\n\u001b[39;49;00m\u001b[38;5;124;43m    echo \u001b[39;49m\u001b[38;5;124;43m\"\u001b[39;49m\u001b[38;5;124;43mData directory already exists. Skipping download and setup.\u001b[39;49m\u001b[38;5;124;43m\"\u001b[39;49m\u001b[38;5;130;43;01m\\n\u001b[39;49;00m\u001b[38;5;124;43mfi\u001b[39;49m\u001b[38;5;130;43;01m\\n\u001b[39;49;00m\u001b[38;5;130;43;01m\\n\u001b[39;49;00m\u001b[38;5;124;43mhttps://doi.org/10.1126/scitranslmed.aaw8513\u001b[39;49m\u001b[38;5;130;43;01m\\n\u001b[39;49;00m\u001b[38;5;124;43mGSE85566 # Normal_Lung\u001b[39;49m\u001b[38;5;130;43;01m\\n\u001b[39;49;00m\u001b[38;5;124;43mGSE56044 # No IDAT\u001b[39;49m\u001b[38;5;130;43;01m\\n\u001b[39;49;00m\u001b[38;5;124;43mGSE79556 # Oral_Tongue_SCC\u001b[39;49m\u001b[38;5;130;43;01m\\n\u001b[39;49;00m\u001b[38;5;124;43mGSE95036\u001b[39;49m\u001b[38;5;130;43;01m\\n\u001b[39;49;00m\u001b[38;5;124;43manno = get_resource_path(\u001b[39;49m\u001b[38;5;124;43m\"\u001b[39;49m\u001b[38;5;124;43mmepylome\u001b[39;49m\u001b[38;5;124;43m\"\u001b[39;49m\u001b[38;5;124;43m).parent / \u001b[39;49m\u001b[38;5;124;43m\"\u001b[39;49m\u001b[38;5;124;43mexamples\u001b[39;49m\u001b[38;5;124;43m\"\u001b[39;49m\u001b[38;5;124;43m / \u001b[39;49m\u001b[38;5;124;43m\"\u001b[39;49m\u001b[38;5;124;43mdata\u001b[39;49m\u001b[38;5;124;43m\"\u001b[39;49m\u001b[38;5;124;43m / \u001b[39;49m\u001b[38;5;124;43m\"\u001b[39;49m\u001b[38;5;124;43mGSE95036-annotation.tsv\u001b[39;49m\u001b[38;5;124;43m\"\u001b[39;49m\u001b[38;5;130;43;01m\\n\u001b[39;49;00m\u001b[38;5;124;43manno_df = pd.read_csv(anno, sep=\u001b[39;49m\u001b[38;5;124;43m\"\u001b[39;49m\u001b[38;5;130;43;01m\\\\\u001b[39;49;00m\u001b[38;5;124;43mt\u001b[39;49m\u001b[38;5;124;43m\"\u001b[39;49m\u001b[38;5;124;43m)\u001b[39;49m\u001b[38;5;130;43;01m\\n\u001b[39;49;00m\u001b[38;5;124;43mGSE66836\u001b[39;49m\u001b[38;5;130;43;01m\\n\u001b[39;49;00m\u001b[38;5;124;43mGSE39279\u001b[39;49m\u001b[38;5;130;43;01m\\n\u001b[39;49;00m\u001b[38;5;124;43mGSE87053\u001b[39;49m\u001b[38;5;130;43;01m\\n\u001b[39;49;00m\u001b[38;5;124;43mGSE39279\u001b[39;49m\u001b[38;5;130;43;01m\\n\u001b[39;49;00m\u001b[38;5;124;43mGSE124052\u001b[39;49m\u001b[38;5;130;43;01m\\n\u001b[39;49;00m\u001b[38;5;130;43;01m\\n\u001b[39;49;00m\u001b[38;5;124;43mhttps://doi.org/10.1002/ijc.32890\u001b[39;49m\u001b[38;5;130;43;01m\\n\u001b[39;49;00m\u001b[38;5;124;43mGSE124633\u001b[39;49m\u001b[38;5;130;43;01m\\n\u001b[39;49;00m\u001b[38;5;124;43m'\u001b[39;49m\u001b[43m)\u001b[49m\n",
      "File \u001b[0;32m~/Projects/py3.12/lib/python3.12/site-packages/IPython/core/interactiveshell.py:2541\u001b[0m, in \u001b[0;36mInteractiveShell.run_cell_magic\u001b[0;34m(self, magic_name, line, cell)\u001b[0m\n\u001b[1;32m   2539\u001b[0m \u001b[38;5;28;01mwith\u001b[39;00m \u001b[38;5;28mself\u001b[39m\u001b[38;5;241m.\u001b[39mbuiltin_trap:\n\u001b[1;32m   2540\u001b[0m     args \u001b[38;5;241m=\u001b[39m (magic_arg_s, cell)\n\u001b[0;32m-> 2541\u001b[0m     result \u001b[38;5;241m=\u001b[39m \u001b[43mfn\u001b[49m\u001b[43m(\u001b[49m\u001b[38;5;241;43m*\u001b[39;49m\u001b[43margs\u001b[49m\u001b[43m,\u001b[49m\u001b[43m \u001b[49m\u001b[38;5;241;43m*\u001b[39;49m\u001b[38;5;241;43m*\u001b[39;49m\u001b[43mkwargs\u001b[49m\u001b[43m)\u001b[49m\n\u001b[1;32m   2543\u001b[0m \u001b[38;5;66;03m# The code below prevents the output from being displayed\u001b[39;00m\n\u001b[1;32m   2544\u001b[0m \u001b[38;5;66;03m# when using magics with decorator @output_can_be_silenced\u001b[39;00m\n\u001b[1;32m   2545\u001b[0m \u001b[38;5;66;03m# when the last Python token in the expression is a ';'.\u001b[39;00m\n\u001b[1;32m   2546\u001b[0m \u001b[38;5;28;01mif\u001b[39;00m \u001b[38;5;28mgetattr\u001b[39m(fn, magic\u001b[38;5;241m.\u001b[39mMAGIC_OUTPUT_CAN_BE_SILENCED, \u001b[38;5;28;01mFalse\u001b[39;00m):\n",
      "File \u001b[0;32m~/Projects/py3.12/lib/python3.12/site-packages/IPython/core/magics/script.py:155\u001b[0m, in \u001b[0;36mScriptMagics._make_script_magic.<locals>.named_script_magic\u001b[0;34m(line, cell)\u001b[0m\n\u001b[1;32m    153\u001b[0m \u001b[38;5;28;01melse\u001b[39;00m:\n\u001b[1;32m    154\u001b[0m     line \u001b[38;5;241m=\u001b[39m script\n\u001b[0;32m--> 155\u001b[0m \u001b[38;5;28;01mreturn\u001b[39;00m \u001b[38;5;28;43mself\u001b[39;49m\u001b[38;5;241;43m.\u001b[39;49m\u001b[43mshebang\u001b[49m\u001b[43m(\u001b[49m\u001b[43mline\u001b[49m\u001b[43m,\u001b[49m\u001b[43m \u001b[49m\u001b[43mcell\u001b[49m\u001b[43m)\u001b[49m\n",
      "File \u001b[0;32m~/Projects/py3.12/lib/python3.12/site-packages/IPython/core/magics/script.py:315\u001b[0m, in \u001b[0;36mScriptMagics.shebang\u001b[0;34m(self, line, cell)\u001b[0m\n\u001b[1;32m    310\u001b[0m \u001b[38;5;28;01mif\u001b[39;00m args\u001b[38;5;241m.\u001b[39mraise_error \u001b[38;5;129;01mand\u001b[39;00m p\u001b[38;5;241m.\u001b[39mreturncode \u001b[38;5;241m!=\u001b[39m \u001b[38;5;241m0\u001b[39m:\n\u001b[1;32m    311\u001b[0m     \u001b[38;5;66;03m# If we get here and p.returncode is still None, we must have\u001b[39;00m\n\u001b[1;32m    312\u001b[0m     \u001b[38;5;66;03m# killed it but not yet seen its return code. We don't wait for it,\u001b[39;00m\n\u001b[1;32m    313\u001b[0m     \u001b[38;5;66;03m# in case it's stuck in uninterruptible sleep. -9 = SIGKILL\u001b[39;00m\n\u001b[1;32m    314\u001b[0m     rc \u001b[38;5;241m=\u001b[39m p\u001b[38;5;241m.\u001b[39mreturncode \u001b[38;5;129;01mor\u001b[39;00m \u001b[38;5;241m-\u001b[39m\u001b[38;5;241m9\u001b[39m\n\u001b[0;32m--> 315\u001b[0m     \u001b[38;5;28;01mraise\u001b[39;00m CalledProcessError(rc, cell)\n",
      "\u001b[0;31mCalledProcessError\u001b[0m: Command 'b'# Define the variables\\nTCGA_SCC_DIR=\"$HOME/Documents/mepylome/data/tcga_scc\"\\nDOWNLOAD_COMPLETE=\"$TCGA_SCC_DIR/.download_complete\"\\nGDC_CLIENT_BIN=\"$HOME/Documents/mepylome/gdc-client\"\\nTAR_FILE_PATH=\"$HOME/Documents/mepylome/data/tcga_scc_anno.tar.gz\"\\n\\n# Check if the data directory exists\\nmkdir -p \"$TCGA_SCC_DIR\"\\nif [ -f \"$TAR_FILE_PATH\" ]; then\\n    echo \"Setting up TCGA SCC directory...\"\\n    cd \"$TCGA_SCC_DIR\" || exit 1\\n    cp -f \"$TAR_FILE_PATH\" .\\n    TAR_FILE_NAME=$(basename \"$TAR_FILE_PATH\")\\n    tar xvzf \"$TAR_FILE_NAME\"\\n    echo \"Setting up TCGA SCC directory done.\"\\nelse\\n    echo \"Error: TAR file not found at $TAR_FILE_PATH\"\\n    exit 1\\nfi\\n\\nif [ ! -f \"$DOWNLOAD_COMPLETE\" ]; then\\n    echo \"Download has not been completed yet.\"\\n    if [ -x \"$GDC_CLIENT_BIN\" ]; then\\n        echo \"Downloading TCGA files. This may take some time!\"\\n        \"$GDC_CLIENT_BIN\" download -m gdc_manifest* -d \"$TCGA_SCC_DIR\" \\\\\\n            || { echo \"Download failed\"; exit 1; }\\n        echo \"Download finished.\"\\n        touch \"$DOWNLOAD_COMPLETE\"\\n    else\\n        echo \"Error: GDC client not found at $GDC_CLIENT_BIN\"\\n        exit 1\\n    fi\\nelse\\n    echo \"Data directory already exists. Skipping download and setup.\"\\nfi\\n\\nhttps://doi.org/10.1126/scitranslmed.aaw8513\\nGSE85566 # Normal_Lung\\nGSE56044 # No IDAT\\nGSE79556 # Oral_Tongue_SCC\\nGSE95036\\nanno = get_resource_path(\"mepylome\").parent / \"examples\" / \"data\" / \"GSE95036-annotation.tsv\"\\nanno_df = pd.read_csv(anno, sep=\"\\\\t\")\\nGSE66836\\nGSE39279\\nGSE87053\\nGSE39279\\nGSE124052\\n\\nhttps://doi.org/10.1002/ijc.32890\\nGSE124633\\n'' returned non-zero exit status 2."
     ]
    }
   ],
   "source": [
    "%%bash\n",
    "# Define the variables\n",
    "TCGA_SCC_DIR=\"$HOME/mepylome/data/tcga_scc\"\n",
    "DOWNLOAD_COMPLETE=\"$TCGA_SCC_DIR/.download_complete\"\n",
    "GDC_CLIENT_BIN=\"$HOME/mepylome/gdc-client\"\n",
    "TAR_FILE_PATH=\"$HOME/mepylome/data/tcga_scc_anno.tar.gz\"\n",
    "\n",
    "# Check if the data directory exists\n",
    "mkdir -p \"$TCGA_SCC_DIR\"\n",
    "if [ -f \"$TAR_FILE_PATH\" ]; then\n",
    "    echo \"Setting up TCGA SCC directory...\"\n",
    "    cd \"$TCGA_SCC_DIR\" || exit 1\n",
    "    cp -f \"$TAR_FILE_PATH\" .\n",
    "    TAR_FILE_NAME=$(basename \"$TAR_FILE_PATH\")\n",
    "    tar xvzf \"$TAR_FILE_NAME\"\n",
    "    echo \"Setting up TCGA SCC directory done.\"\n",
    "else\n",
    "    echo \"Error: TAR file not found at $TAR_FILE_PATH\"\n",
    "    exit 1\n",
    "fi\n",
    "\n",
    "if [ ! -f \"$DOWNLOAD_COMPLETE\" ]; then\n",
    "    echo \"Download has not been completed yet.\"\n",
    "    if [ -x \"$GDC_CLIENT_BIN\" ]; then\n",
    "        echo \"Downloading TCGA files. This may take some time!\"\n",
    "        \"$GDC_CLIENT_BIN\" download -m gdc_manifest* -d \"$TCGA_SCC_DIR\" \\\n",
    "            || { echo \"Download failed\"; exit 1; }\n",
    "        echo \"Download finished.\"\n",
    "        touch \"$DOWNLOAD_COMPLETE\"\n",
    "    else\n",
    "        echo \"Error: GDC client not found at $GDC_CLIENT_BIN\"\n",
    "        exit 1\n",
    "    fi\n",
    "else\n",
    "    echo \"Data directory already exists. Skipping download and setup.\"\n",
    "fi\n"
   ]
  },
  {
   "cell_type": "markdown",
   "id": "b16ba6f1",
   "metadata": {},
   "source": [
    "Next we are going to download all the IDAT files mentioned in\n",
    "[Jurmeister2019](https://doi.org/10.1126/scitranslmed.aaw8513).\n",
    "GSE85566 # Normal_Lung\n",
    "GSE56044 # No IDAT\n",
    "GSE79556 # Oral_Tongue_SCC\n",
    "GSE95036\n",
    "anno = (\n",
    "get_resource_path(\"mepylome\").parent\n",
    "/ \"examples\"\n",
    "/ \"data\"\n",
    "/ \"GSE95036-annotation.tsv\"\n",
    ")\n",
    "anno_df = pd.read_csv(anno, sep=\"\\t\")\n",
    "GSE66836\n",
    "GSE39279 # No IDAT\n",
    "GSE87053\n",
    "GSE39279 # No IDAT\n",
    "GSE124052\n",
    "\n",
    "https://doi.org/10.1002/ijc.32890\n",
    "GSE124633 # no IDAT"
   ]
  },
  {
   "cell_type": "code",
   "execution_count": null,
   "id": "56c8aff6",
   "metadata": {
    "lines_to_next_cell": 2
   },
   "outputs": [],
   "source": [
    "# Initialize directories.\n",
    "tumor_site = \"head_and_neck_scc\"\n",
    "analysis_dir = data_dir / tumor_site\n",
    "test_dir = tests_dir / tumor_site\n",
    "\n",
    "ensure_directory_exists(test_dir)\n",
    "ensure_directory_exists(analysis_dir)\n",
    "\n",
    "# # Download the the annotation spreadsheet.\n",
    "# if not (excel_path := analysis_dir / f\"{tumor_site}-annotation.xlsx\").exists():\n",
    "# download_file(datasets[tumor_site][\"xlsx\"], excel_path)\n",
    "\n",
    "# Download the IDAT files.\n",
    "download_from_geo_and_untar(analysis_dir, datasets[tumor_site][\"geo_id\"])"
   ]
  },
  {
   "cell_type": "markdown",
   "id": "c25ddfe0",
   "metadata": {},
   "source": [
    "### Create the Methylation Analysis Object\n",
    "\n",
    "The `MethylAnalysis` object serves as the main interface for performing DNA\n",
    "methylation analysis. Key parameters such as the directory structure, number\n",
    "of CpG sites, and UMAP settings are configured here."
   ]
  },
  {
   "cell_type": "code",
   "execution_count": null,
   "id": "126a17f7",
   "metadata": {},
   "outputs": [],
   "source": [
    "analysis = MethylAnalysis(\n",
    "    analysis_dir=analysis_dir,\n",
    "    reference_dir=reference_dir,\n",
    "    output_dir=output_dir,\n",
    "    test_dir=test_dir,\n",
    "    n_cpgs=25000,\n",
    "    load_full_betas=True,\n",
    "    overlap=False,\n",
    "    cpg_blacklist=blacklist,\n",
    "    debug=True,\n",
    "    do_seg=True,\n",
    "    umap_parms={\n",
    "        \"n_neighbors\": 8,\n",
    "        \"metric\": \"manhattan\",\n",
    "        \"min_dist\": 0.3,\n",
    "    },\n",
    ")\n",
    "\n",
    "analysis.set_betas()\n",
    "analysis.idat_handler.selected_columns = [\"Methylation class\"]"
   ]
  }
 ],
 "metadata": {
  "jupytext": {
   "cell_metadata_filter": "-all",
   "formats": "ipynb,auto:percent",
   "main_language": "python",
   "notebook_metadata_filter": "-all"
  },
  "kernelspec": {
   "display_name": "Python 3 (ipykernel)",
   "language": "python",
   "name": "python3"
  },
  "language_info": {
   "codemirror_mode": {
    "name": "ipython",
    "version": 3
   },
   "file_extension": ".py",
   "mimetype": "text/x-python",
   "name": "python",
   "nbconvert_exporter": "python",
   "pygments_lexer": "ipython3",
   "version": "3.12.8"
  }
 },
 "nbformat": 4,
 "nbformat_minor": 5
}
