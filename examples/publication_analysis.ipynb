{
 "cells": [
  {
   "cell_type": "markdown",
   "id": "f4035a8f",
   "metadata": {
    "lines_to_next_cell": 2
   },
   "source": [
    "Mepylome: A Toolkit for DNA-Methylation Analysis in Tumor Diagnostics\n",
    "=====================================================================\n",
    "\n",
    "This notebook automates the analysis outlined in the Mepylome publication,\n",
    "performing all necessary steps from downloading datasets to executing the\n",
    "analyses.\n",
    "\n",
    "\n",
    "### Usage\n",
    "\n",
    "- All datasets and outputs are saved in `~/Documents/mepylome`.\n",
    "- Follow the notebook/script step-by-step for an in-depth understanding of\n",
    "  the workflow and results.\n",
    "\n",
    "\n",
    "### System Requirements\n",
    "\n",
    "- *Operating System*: Ubuntu 20.04.6\n",
    "- *Python Version*: 3.12\n",
    "\n",
    "\n",
    "### Reference Publication (will follow)\n",
    "\n",
    "- *Title*: Mepylome: A User-Friendly Open-Source Toolkit for DNA-Methylation\n",
    "  Analysis in Tumor Diagnostics\n",
    "- *Author*: Jon Brugger et al.\n",
    "\n",
    "\n",
    "This notebook was automatically generated from the corresponding py-file\n",
    "with:\n",
    "\n",
    "```bash\n",
    "jupytext --to ipynb publication_analysis.py\n",
    "```"
   ]
  },
  {
   "cell_type": "markdown",
   "id": "3bbf1cfc",
   "metadata": {},
   "source": [
    "-----------------------------------------------------------------------------\n",
    "## 0. Initialization\n",
    "\n",
    "### Install Required Packages\n",
    "\n",
    "To run the analysis, install the following Python packages:\n",
    "- `mepylome` – the main toolkit for DNA-methylation analysis.\n",
    "- `linear_segment` – used for segmentation calculations in CNV plots.\n",
    "\n",
    "Install these packages using the commands below:"
   ]
  },
  {
   "cell_type": "code",
   "execution_count": 16,
   "id": "0856bb8a",
   "metadata": {},
   "outputs": [],
   "source": [
    "%%bash\n",
    "pip install mepylome\n",
    "pip install linear_segment"
   ]
  },
  {
   "cell_type": "markdown",
   "id": "e4fd41a4",
   "metadata": {},
   "source": [
    "### Core Imports, Configuration and main Functions"
   ]
  },
  {
   "cell_type": "code",
   "execution_count": null,
   "id": "7497ca57",
   "metadata": {
    "lines_to_next_cell": 2
   },
   "outputs": [],
   "source": [
    "import io\n",
    "import itertools\n",
    "import tarfile\n",
    "import zipfile\n",
    "from pathlib import Path\n",
    "\n",
    "import numpy as np\n",
    "import pandas as pd\n",
    "import requests\n",
    "from PIL import Image\n",
    "\n",
    "from mepylome import ArrayType, Manifest\n",
    "from mepylome.analysis import MethylAnalysis\n",
    "from mepylome.dtypes.manifests import (\n",
    "    DOWNLOAD_DIR,\n",
    "    MANIFEST_URL,\n",
    "    REMOTE_FILENAME,\n",
    ")\n",
    "from mepylome.utils import ensure_directory_exists\n",
    "from mepylome.utils.files import download_file, download_geo_probes\n",
    "\n",
    "# Define output font size for plots\n",
    "FONTSIZE = 23\n",
    "\n",
    "# Define dataset URLs and filenames\n",
    "file_urls = {\n",
    "    \"salivary_gland_tumors\": {\n",
    "        \"xlsx\": \"https://ars.els-cdn.com/content/image/1-s2.0-S0893395224002059-mmc4.xlsx\",\n",
    "        \"xlsx_name\": \"mmc4.xlsx\",\n",
    "        \"idat\": \"https://www.ncbi.nlm.nih.gov/geo/download/?acc=GSE243075&format=file\",\n",
    "        \"idat_name\": \"GSE243075\",\n",
    "    },\n",
    "    \"soft_tissue_tumors\": {\n",
    "        \"xlsx\": \"https://static-content.springer.com/esm/art%3A10.1038%2Fs41467-020-20603-4/MediaObjects/41467_2020_20603_MOESM4_ESM.xlsx\",\n",
    "        \"xlsx_name\": \"41467_2020_20603_MOESM4_ESM.xlsx\",\n",
    "        \"idat\": \"https://www.ncbi.nlm.nih.gov/geo/download/?acc=GSE140686&format=file\",\n",
    "        \"idat_name\": \"GSE140686\",\n",
    "    },\n",
    "    \"sinonasal_tumors\": {\n",
    "        \"xlsx\": \"https://static-content.springer.com/esm/art%3A10.1038%2Fs41467-022-34815-3/MediaObjects/41467_2022_34815_MOESM6_ESM.xlsx\",\n",
    "        \"xlsx_name\": \"41467_2022_34815_MOESM6_ESM.xlsx\",\n",
    "        \"idat\": \"https://www.ncbi.nlm.nih.gov/geo/download/?acc=GSE196228&format=file\",\n",
    "        \"idat_name\": \"GSE196228\",\n",
    "    },\n",
    "    \"head_and_neck_scc\": {\n",
    "        \"xlsx\": \"https://www.science.org/doi/suppl/10.1126/scitranslmed.aaw8513/suppl_file/aaw8513_data_file_s1.xlsx\",\n",
    "        \"xlsx_name\": \"aaw8513_data_file_s1.xlsx\",\n",
    "        \"idat\": \"https://www.ncbi.nlm.nih.gov/geo/download/?acc=GSE124633&format=file\",\n",
    "        \"idat_name\": \"GSE124633\",\n",
    "    },\n",
    "}\n",
    "\n",
    "# Define directories\n",
    "mepylome_dir = Path(\"~/Documents/mepylome\").expanduser()\n",
    "data_dir = mepylome_dir / \"data\"\n",
    "output_dir = mepylome_dir / \"out\"\n",
    "tests_dir = mepylome_dir / \"tests\"\n",
    "reference_dir = mepylome_dir / \"cn_neutral_idats\"\n",
    "\n",
    "ensure_directory_exists(data_dir)\n",
    "ensure_directory_exists(tests_dir)\n",
    "ensure_directory_exists(output_dir)\n",
    "ensure_directory_exists(reference_dir)\n",
    "\n",
    "\n",
    "# Main Funktions\n",
    "\n",
    "def extract_tar(tar_path, output_directory):\n",
    "    \"\"\"Extracts tar file under 'tar_path' to 'output_directory'.\"\"\"\n",
    "    output_directory.mkdir(exist_ok=True)\n",
    "    with tarfile.open(tar_path, \"r\") as tar:\n",
    "        tar.extractall(path=output_directory, filter=None)\n",
    "        print(f\"Extracted {tar_path} to {output_directory}\")\n",
    "\n",
    "\n",
    "def calculate_cn_summary(class_):\n",
    "    \"\"\"Calculates and saves CN summary plots.\"\"\"\n",
    "    df_class = analysis.idat_handler.samples_annotated[class_]\n",
    "    plot_list = []\n",
    "    all_classes = sorted(df_class.unique())\n",
    "    for methyl_class in all_classes:\n",
    "        df_index = df_class == methyl_class\n",
    "        sample_ids = df_class.index[df_index]\n",
    "        plot, df_cn_summary = analysis.cn_summary(sample_ids)\n",
    "        plot.update_layout(\n",
    "            title=f\"{methyl_class}\",\n",
    "            title_x=0.5,\n",
    "            yaxis_title=\"Proportion of CNV gains/losses\",\n",
    "        )\n",
    "        plot.update_layout(\n",
    "            title_font_size=FONTSIZE + 3,\n",
    "            yaxis_title_font_size=FONTSIZE - 2,\n",
    "        )\n",
    "        plot_list.append(plot)\n",
    "    png_paths = [\n",
    "        output_dir / f\"{analysis_dir.name}-cn_summary-{x}.png\"\n",
    "        for x in all_classes\n",
    "    ]\n",
    "    for path, fig in zip(png_paths, plot_list):\n",
    "        fig.write_image(path)\n",
    "    images = [Image.open(path) for path in png_paths]\n",
    "    width, height = images[0].size\n",
    "    n_columns = 4\n",
    "    n_images = len(images)\n",
    "    n_rows = (n_images + n_columns - 1) // n_columns\n",
    "    total_width = width * n_columns\n",
    "    total_height = height * n_rows\n",
    "    new_image = Image.new(\"RGB\", (total_width, total_height), (255, 255, 255))\n",
    "    for index, img in enumerate(images):\n",
    "        row = index // n_columns\n",
    "        col = index % n_columns\n",
    "        x = col * width\n",
    "        y = row * height\n",
    "        new_image.paste(img, (x, y))\n",
    "    new_image.save(output_dir / f\"{analysis_dir.name}-cn_summary.png\")"
   ]
  },
  {
   "cell_type": "markdown",
   "id": "19a575c9",
   "metadata": {
    "lines_to_next_cell": 2
   },
   "source": [
    "### Blacklist Generation for CpG Sites\n",
    "\n",
    "Some CpG sites should be excluded from the analysis. Here we choose probes\n",
    "flagged with `MFG_Change_Flagged` that should be excluded according to the\n",
    "manifest and those that are on sex chromosomes."
   ]
  },
  {
   "cell_type": "code",
   "execution_count": null,
   "id": "85c11b12",
   "metadata": {},
   "outputs": [],
   "source": [
    "def generate_blacklist_cpgs():\n",
    "    \"\"\"Returns and caches CpG sites that should be blacklisted.\"\"\"\n",
    "    print(\"Generate blacklist. Can take some time...\")\n",
    "    blacklist_path = data_dir / \"cpg_blacklist.csv\"\n",
    "    if not blacklist_path.exists():\n",
    "        manifest_url = MANIFEST_URL[ArrayType.ILLUMINA_EPIC]\n",
    "        ensure_directory_exists(DOWNLOAD_DIR)\n",
    "        response = requests.get(manifest_url)\n",
    "        html_sucess_ok_code = 200\n",
    "        if response.status_code == html_sucess_ok_code:\n",
    "            with zipfile.ZipFile(io.BytesIO(response.content)) as thezip:\n",
    "                thezip.extractall(DOWNLOAD_DIR)\n",
    "        else:\n",
    "            raise Exception(\n",
    "                f\"Failed to download the file: {response.status_code}\"\n",
    "            )\n",
    "        csv_path = DOWNLOAD_DIR / REMOTE_FILENAME[ArrayType.ILLUMINA_EPIC]\n",
    "        manifest_df = pd.read_csv(csv_path, skiprows=7)\n",
    "        flagged_cpgs = manifest_df[\n",
    "            manifest_df[\"MFG_Change_Flagged\"].fillna(False)\n",
    "        ][\"IlmnID\"]\n",
    "        flagged_cpgs.to_csv(blacklist_path, index=False, header=False)\n",
    "        csv_path.unlink()\n",
    "    blacklist = pd.read_csv(blacklist_path, header=None)\n",
    "    return set(blacklist.iloc[:, 0])\n",
    "\n",
    "\n",
    "def sex_chromosome_cpgs():\n",
    "    \"\"\"Returns CpGs on sex chromosomes for EPIC and 450k arrays.\"\"\"\n",
    "    manifest = Manifest(\"epic\")\n",
    "    sex_cpgs_epic = manifest.data_frame[\n",
    "        manifest.data_frame.Chromosome.isin([23, 24])\n",
    "    ].IlmnID\n",
    "    manifest = Manifest(\"450k\")\n",
    "    sex_cpgs_450k = manifest.data_frame[\n",
    "        manifest.data_frame.Chromosome.isin([23, 24])\n",
    "    ].IlmnID\n",
    "    return set(sex_cpgs_epic) | set(sex_cpgs_450k)\n",
    "\n",
    "\n",
    "# Choose CpG list that should be blacklisted\n",
    "blacklist = generate_blacklist_cpgs() | sex_chromosome_cpgs()"
   ]
  },
  {
   "cell_type": "markdown",
   "id": "238fbab0",
   "metadata": {},
   "source": [
    "### Copy-Neutral Reference Probes\n",
    "\n",
    "To ensure accurate analysis, we utilize control probes from the [Koelsche2021\n",
    "study](https://doi.org/10.1038/s41467-020-20603-4). These probes are stored\n",
    "in the designated reference directory `reference_dir`.\n",
    "\n",
    "**Best Practices**:\n",
    "- Include both fresh-frozen and FFPE (formalin-fixed paraffin-embedded)\n",
    "  samples in the copy-neutral reference set for optimal results."
   ]
  },
  {
   "cell_type": "code",
   "execution_count": null,
   "id": "07b8e747",
   "metadata": {
    "lines_to_next_cell": 2
   },
   "outputs": [],
   "source": [
    "cn_neutral_probes = [\n",
    "    \"GSM4180453_201904410008_R06C01\",\n",
    "    \"GSM4180454_201904410008_R05C01\",\n",
    "    \"GSM4180455_201904410008_R04C01\",\n",
    "    \"GSM4180456_201904410008_R03C01\",\n",
    "    \"GSM4180457_201904410008_R02C01\",\n",
    "    \"GSM4180458_201904410008_R01C01\",\n",
    "    \"GSM4180459_201904410007_R08C01\",\n",
    "    \"GSM4180460_201904410007_R07C01\",\n",
    "    \"GSM4180741_201247480004_R05C01\",\n",
    "    \"GSM4180742_201247480004_R04C01\",\n",
    "    \"GSM4180743_201247480004_R03C01\",\n",
    "    \"GSM4180751_201194010006_R01C01\",\n",
    "    \"GSM4180909_200394870074_R04C02\",\n",
    "    \"GSM4180910_200394870074_R03C02\",\n",
    "    \"GSM4180911_200394870074_R02C02\",\n",
    "    \"GSM4180912_200394870074_R01C02\",\n",
    "    \"GSM4180913_200394870074_R05C01\",\n",
    "    \"GSM4180914_200394870074_R04C01\",\n",
    "    \"GSM4181456_203049640041_R03C01\",\n",
    "    \"GSM4181509_203049640040_R07C01\",\n",
    "    \"GSM4181510_203049640040_R08C01\",\n",
    "    \"GSM4181511_203049640041_R01C01\",\n",
    "    \"GSM4181512_203049640041_R02C01\",\n",
    "    \"GSM4181513_203049640041_R04C01\",\n",
    "    \"GSM4181514_203049640041_R05C01\",\n",
    "    \"GSM4181515_203049640041_R06C01\",\n",
    "    \"GSM4181516_203049640041_R07C01\",\n",
    "    \"GSM4181517_203049640041_R08C01\",\n",
    "]\n",
    "\n",
    "download_geo_probes(reference_dir, cn_neutral_probes)"
   ]
  },
  {
   "cell_type": "markdown",
   "id": "18266d00",
   "metadata": {},
   "source": [
    "-----------------------------------------------------------------------------\n",
    "## 1. Salivary Gland Tumors\n",
    "\n",
    "This section replicates the methylation analysis performed in the study by\n",
    "[Jurmeister2024](https://doi.org/10.1016/j.modpat.2024.100625). To begin, we\n",
    "download the required data and organize it within the designated directories."
   ]
  },
  {
   "cell_type": "code",
   "execution_count": null,
   "id": "946952db",
   "metadata": {},
   "outputs": [],
   "source": [
    "# Initialize directories.\n",
    "tumor_site = \"salivary_gland_tumors\"\n",
    "analysis_dir = data_dir / tumor_site\n",
    "test_dir = tests_dir / tumor_site\n",
    "ensure_directory_exists(test_dir)\n",
    "idat_dir = analysis_dir / file_urls[tumor_site][\"idat_name\"]\n",
    "\n",
    "# Download the IDAT files and the annotation spreadsheet if not already done.\n",
    "if not idat_dir.exists():\n",
    "    excel_path = analysis_dir / file_urls[tumor_site][\"xlsx_name\"]\n",
    "    download_file(file_urls[tumor_site][\"xlsx\"], excel_path)\n",
    "    # Deletes the first 2 (useless description) rows from the excel file.\n",
    "    pd.read_excel(excel_path, skiprows=2).to_excel(excel_path, index=False)\n",
    "    idat_tar_path = analysis_dir / \"tmp_idats.tar\"\n",
    "    download_file(file_urls[tumor_site][\"idat\"], idat_tar_path)\n",
    "    extract_tar(idat_tar_path, idat_dir)\n",
    "    idat_tar_path.unlink()"
   ]
  },
  {
   "cell_type": "markdown",
   "id": "6f3f723a",
   "metadata": {},
   "source": [
    "### Create the Methylation Analysis Object\n",
    "\n",
    "The `MethylAnalysis` object serves as the main interface for performing DNA\n",
    "methylation analysis. Key parameters such as the directory structure, number\n",
    "of CpG sites, and UMAP settings are configured here."
   ]
  },
  {
   "cell_type": "code",
   "execution_count": null,
   "id": "c26a6b29",
   "metadata": {
    "lines_to_next_cell": 2
   },
   "outputs": [],
   "source": [
    "analysis = MethylAnalysis(\n",
    "    analysis_dir=analysis_dir,\n",
    "    reference_dir=reference_dir,\n",
    "    output_dir=output_dir,\n",
    "    test_dir=test_dir,\n",
    "    n_cpgs=25000,\n",
    "    load_full_betas=True,\n",
    "    overlap=False,\n",
    "    cpg_blacklist=blacklist,\n",
    "    debug=True,\n",
    "    do_seg=True,\n",
    "    umap_parms={\n",
    "        \"n_neighbors\": 8,\n",
    "        \"metric\": \"manhattan\",\n",
    "        \"min_dist\": 0.3,\n",
    "    },\n",
    ")"
   ]
  },
  {
   "cell_type": "markdown",
   "id": "fb8d3b96",
   "metadata": {},
   "source": [
    "### Load Beta Values\n",
    "\n",
    "Reads and processes beta values from the provided dataset. This step can also\n",
    "be performed interactively within the GUI."
   ]
  },
  {
   "cell_type": "code",
   "execution_count": null,
   "id": "b4355ac0",
   "metadata": {
    "lines_to_next_cell": 2
   },
   "outputs": [],
   "source": [
    "analysis.set_betas()"
   ]
  },
  {
   "cell_type": "markdown",
   "id": "25cedab0",
   "metadata": {},
   "source": [
    "### Generate UMAP Plot\n",
    "\n",
    "Set the columns used for coloring the UMAP plot before initiating the\n",
    "dimensionality reduction process. The UMAP algorithm produces a visual\n",
    "representation of the sample clusters, which is stored as a Plotly object in\n",
    "`analysis.umap_plot`."
   ]
  },
  {
   "cell_type": "code",
   "execution_count": null,
   "id": "af96ec44",
   "metadata": {},
   "outputs": [],
   "source": [
    "analysis.idat_handler.selected_columns = [\"Methylation class\"]\n",
    "analysis.make_umap()\n",
    "\n",
    "# Show the results\n",
    "print(analysis.umap_df)\n",
    "analysis.umap_plot.show()"
   ]
  },
  {
   "cell_type": "markdown",
   "id": "03d6460e",
   "metadata": {},
   "source": [
    "### Launch the Analysis GUI\n",
    "\n",
    "Initializes an interactive GUI for further exploration of the methylation\n",
    "data.\n",
    "\n",
    "**Note**: This step is only supported in local environments (not in\n",
    "cloud-based platforms like Google Colab or Binder)."
   ]
  },
  {
   "cell_type": "code",
   "execution_count": null,
   "id": "76613209",
   "metadata": {
    "lines_to_next_cell": 2
   },
   "outputs": [],
   "source": [
    "analysis.run_app(open_tab=True)"
   ]
  },
  {
   "cell_type": "markdown",
   "id": "51dd8153",
   "metadata": {},
   "source": [
    "### Generate and Save CNV Plot\n",
    "\n",
    "Creates a copy number variation (CNV) plot for a specified sample and saves\n",
    "the output as a high-resolution image."
   ]
  },
  {
   "cell_type": "code",
   "execution_count": null,
   "id": "d6e2b184",
   "metadata": {},
   "outputs": [],
   "source": [
    "# Save CNV example\n",
    "analysis.make_cnv_plot(\"206842050057_R06C01\")\n",
    "cnv_plot = analysis.cnv_plot\n",
    "cnv_plot.update_layout(\n",
    "    yaxis_range=[-1.1, 1.1],\n",
    "    font={\"size\": FONTSIZE},\n",
    "    margin={\"t\": 50},\n",
    ")\n",
    "cnv_plot.write_image(\n",
    "    output_dir / f\"{analysis_dir.name}-cnv_plot.jpg\",\n",
    "    format=\"jpg\",\n",
    "    width=2000,\n",
    "    height=1000,\n",
    "    scale=2,\n",
    ")"
   ]
  },
  {
   "cell_type": "markdown",
   "id": "c6a006f4",
   "metadata": {},
   "source": [
    "### Generate CNV Summary Plots\n",
    "\n",
    "In addition to individual CNV plots, this step computes summary plots to\n",
    "highlight genomic alterations across multiple samples. \n",
    "\n",
    "**Note**:\n",
    "Generating all copy number variation (CNV) plots can be resource-intensive.\n",
    "The process may take up to 30 minutes, depending on the computational\n",
    "resources available.  "
   ]
  },
  {
   "cell_type": "code",
   "execution_count": null,
   "id": "342aadd4",
   "metadata": {},
   "outputs": [],
   "source": [
    "analysis.precompute_cnvs()\n",
    "calculate_cn_summary(\"Methylation class\")"
   ]
  },
  {
   "cell_type": "markdown",
   "id": "6eb5b312",
   "metadata": {},
   "source": [
    "### Supervised Classifier Validation\n",
    "\n",
    "The next step involves validating various supervised classification\n",
    "algorithms to evaluate their performance on the dataset. This process helps\n",
    "identify the most accurate model for methylation-based classification.\n",
    "\n",
    "**Note**:\n",
    "Training can be resource-intensive. The process may take up to 10 minutes,\n",
    "depending on the computational resources available.  "
   ]
  },
  {
   "cell_type": "code",
   "execution_count": null,
   "id": "ac397dc6",
   "metadata": {
    "lines_to_next_cell": 2
   },
   "outputs": [],
   "source": [
    "# Validate supervised classifiers\n",
    "ids = analysis.idat_handler.ids\n",
    "clf_out = analysis.classify(\n",
    "    ids=ids,\n",
    "    clf_list=[\n",
    "        \"none-kbest-et\",\n",
    "        \"none-kbest-lr\",\n",
    "        \"none-kbest-rf\",\n",
    "        \"none-kbest-svc_rbf\",\n",
    "        \"none-pca-lr\",\n",
    "        \"none-pca-et\",\n",
    "        \"none-none-knn\",\n",
    "    ],\n",
    ")\n",
    "\n",
    "# Print reports for all classifier for the first sample\n",
    "for clf_result in clf_out:\n",
    "    print(clf_result.reports[0])\n",
    "\n",
    "# Identify and display the best classifier\n",
    "best_clf = max(\n",
    "    clf_out, key=lambda result: np.mean(result.metrics[\"accuracy_scores\"])\n",
    ")\n",
    "print(\"Most accurate classifier:\")\n",
    "print(best_clf.reports[0])"
   ]
  },
  {
   "cell_type": "markdown",
   "id": "88e68adb",
   "metadata": {},
   "source": [
    "-----------------------------------------------------------------------------\n",
    "## 2. Soft Tissue Tumors\n",
    "\n",
    "This section replicates the methylation analysis performed in the study by\n",
    "[Koelsche2021 study](https://doi.org/10.1038/s41467-020-20603-4). To begin,\n",
    "we download the required data and organize it within the designated\n",
    "directories."
   ]
  },
  {
   "cell_type": "code",
   "execution_count": null,
   "id": "2f84e0c1",
   "metadata": {
    "lines_to_next_cell": 2
   },
   "outputs": [],
   "source": [
    "# Initialize directories.\n",
    "tumor_site = \"soft_tissue_tumors\"\n",
    "analysis_dir = data_dir / tumor_site\n",
    "test_dir = tests_dir / tumor_site\n",
    "ensure_directory_exists(test_dir)\n",
    "idat_dir = analysis_dir / file_urls[tumor_site][\"idat_name\"]\n",
    "\n",
    "# Download the IDAT files and the annotation spreadsheet if not already done.\n",
    "if not idat_dir.exists():\n",
    "    excel_path = analysis_dir / file_urls[tumor_site][\"xlsx_name\"]\n",
    "    download_file(file_urls[tumor_site][\"xlsx\"], excel_path)\n",
    "    idat_tar_path = analysis_dir / \"tmp_idats.tar\"\n",
    "    download_file(file_urls[tumor_site][\"idat\"], idat_tar_path)\n",
    "    extract_tar(idat_tar_path, idat_dir)\n",
    "    idat_tar_path.unlink()"
   ]
  },
  {
   "cell_type": "markdown",
   "id": "e94e9120",
   "metadata": {},
   "source": [
    "### Create the Methylation Analysis Object\n",
    "\n",
    "The `MethylAnalysis` object serves as the main interface for performing DNA\n",
    "methylation analysis. Key parameters such as the directory structure, number\n",
    "of CpG sites, and UMAP settings are configured here."
   ]
  },
  {
   "cell_type": "code",
   "execution_count": null,
   "id": "be189ac3",
   "metadata": {},
   "outputs": [],
   "source": [
    "analysis = MethylAnalysis(\n",
    "    analysis_dir=analysis_dir,\n",
    "    reference_dir=reference_dir,\n",
    "    output_dir=output_dir,\n",
    "    n_cpgs=25000,\n",
    "    load_full_betas=True,\n",
    "    overlap=False,\n",
    "    cpg_blacklist=blacklist,\n",
    "    debug=True,\n",
    "    do_seg=True,\n",
    "    umap_parms={\n",
    "        \"n_neighbors\": 8,\n",
    "        \"metric\": \"manhattan\",\n",
    "        \"min_dist\": 0.3,\n",
    "    },\n",
    ")"
   ]
  },
  {
   "cell_type": "markdown",
   "id": "baed076f",
   "metadata": {},
   "source": [
    "### Load Beta Values\n",
    "\n",
    "Reads and processes beta values from the provided dataset. This step can also\n",
    "be performed interactively within the GUI."
   ]
  },
  {
   "cell_type": "code",
   "execution_count": null,
   "id": "a78abcee",
   "metadata": {
    "lines_to_next_cell": 2
   },
   "outputs": [],
   "source": [
    "analysis.set_betas()"
   ]
  },
  {
   "cell_type": "markdown",
   "id": "d93b7a1e",
   "metadata": {},
   "source": [
    "### Generate UMAP Plot\n",
    "\n",
    "Set the columns used for coloring the UMAP plot before initiating the\n",
    "dimensionality reduction process. The UMAP algorithm produces a visual\n",
    "representation of the sample clusters, which is stored as a Plotly object in\n",
    "`analysis.umap_plot`."
   ]
  },
  {
   "cell_type": "code",
   "execution_count": null,
   "id": "75d49a56",
   "metadata": {},
   "outputs": [],
   "source": [
    "analysis.idat_handler.selected_columns = [\"Methylation Class Name\"]\n",
    "analysis.make_umap()\n",
    "\n",
    "# Show the results\n",
    "print(analysis.umap_df)\n",
    "analysis.umap_plot.show()"
   ]
  },
  {
   "cell_type": "markdown",
   "id": "41869ec2",
   "metadata": {},
   "source": [
    "### Launch the Analysis GUI\n",
    "\n",
    "Initializes an interactive GUI for further exploration of the methylation\n",
    "data.\n",
    "\n",
    "**Note**: This step is only supported in local environments (not in\n",
    "cloud-based platforms like Google Colab or Binder)."
   ]
  },
  {
   "cell_type": "code",
   "execution_count": null,
   "id": "1f5c3fe6",
   "metadata": {
    "lines_to_next_cell": 2
   },
   "outputs": [],
   "source": [
    "analysis.run_app(open_tab=True)"
   ]
  },
  {
   "cell_type": "markdown",
   "id": "71dfdab9",
   "metadata": {},
   "source": [
    "### Generate and Save CNV Plot\n",
    "\n",
    "Creates a copy number variation (CNV) plot for a specified sample and saves\n",
    "the output as a high-resolution image."
   ]
  },
  {
   "cell_type": "code",
   "execution_count": null,
   "id": "397ed525",
   "metadata": {},
   "outputs": [],
   "source": [
    "# Save CNV example\n",
    "analysis.make_cnv_plot(\"3999112131_R05C01\")\n",
    "cnv_plot = analysis.cnv_plot\n",
    "cnv_plot.update_layout(\n",
    "    yaxis_range=[-1.1, 1.1],\n",
    "    font={\"size\": FONTSIZE},\n",
    "    margin={\"t\": 50},\n",
    ")\n",
    "cnv_plot.write_image(\n",
    "    output_dir / f\"{analysis_dir.name}-cnv_plot.jpg\",\n",
    "    format=\"jpg\",\n",
    "    width=2000,\n",
    "    height=1000,\n",
    "    scale=2,\n",
    ")"
   ]
  },
  {
   "cell_type": "markdown",
   "id": "ad64d4d9",
   "metadata": {},
   "source": [
    "### Generate CNV Summary Plots\n",
    "\n",
    "In addition to individual CNV plots, this step computes summary plots to\n",
    "highlight genomic alterations across multiple samples. \n",
    "\n",
    "**Note**:\n",
    "Generating all copy number variation (CNV) plots can be resource-intensive.\n",
    "The process may take up to 30 minutes, depending on the computational\n",
    "resources available.  "
   ]
  },
  {
   "cell_type": "code",
   "execution_count": null,
   "id": "3b827cdd",
   "metadata": {},
   "outputs": [],
   "source": [
    "analysis.precompute_cnvs()\n",
    "calculate_cn_summary(\"Methylation class\")"
   ]
  },
  {
   "cell_type": "markdown",
   "id": "53cc62e7",
   "metadata": {},
   "source": [
    "### Supervised Classifier Validation\n",
    "\n",
    "The next step involves validating various supervised classification\n",
    "algorithms to evaluate their performance on the dataset. This process helps\n",
    "identify the most accurate model for methylation-based classification.\n",
    "\n",
    "**Note**:\n",
    "Training can be resource-intensive. The process may take up to 10 minutes,\n",
    "depending on the computational resources available.  "
   ]
  },
  {
   "cell_type": "code",
   "execution_count": null,
   "id": "84b67b76",
   "metadata": {},
   "outputs": [],
   "source": [
    "# Validate supervised classifiers\n",
    "ids = analysis.idat_handler.ids\n",
    "clf_out = analysis.classify(\n",
    "    ids=ids,\n",
    "    clf_list=[\n",
    "        \"none-kbest-et\",\n",
    "        \"none-kbest-lr\",\n",
    "        \"none-kbest-rf\",\n",
    "        \"none-kbest-svc_rbf\",\n",
    "        \"none-pca-lr\",\n",
    "        \"none-pca-et\",\n",
    "        \"none-none-knn\",\n",
    "    ],\n",
    ")\n",
    "\n",
    "# Print reports for all classifier for the first sample\n",
    "for clf_result in clf_out:\n",
    "    print(clf_result.reports[0])\n",
    "\n",
    "# Identify and display the best classifier\n",
    "best_clf = max(\n",
    "    clf_out, key=lambda result: np.mean(result.metrics[\"accuracy_scores\"])\n",
    ")\n",
    "print(\"Most accurate classifier:\")\n",
    "print(best_clf.reports[0])\n",
    "\n"
   ]
  },
  {
   "cell_type": "markdown",
   "id": "ae4a507e",
   "metadata": {},
   "source": [
    "-----------------------------------------------------------------------------\n",
    "## 3. Squamous Cell Carcinoma"
   ]
  },
  {
   "cell_type": "markdown",
   "id": "ff618a53",
   "metadata": {},
   "source": [
    "Step 1: Download and setup GDC client"
   ]
  },
  {
   "cell_type": "code",
   "execution_count": 8,
   "id": "cf5cc22e",
   "metadata": {},
   "outputs": [
    {
     "name": "stdout",
     "output_type": "stream",
     "text": [
      "GDC client already exists at /home/dr_b/Documents/mepylome/gdc-client\n"
     ]
    }
   ],
   "source": [
    "%%bash\n",
    "# Define the variables\n",
    "GDC_CLIENT_URL=\"https://gdc.cancer.gov/system/files/public/file/gdc-client_2.3_Ubuntu_x64-py3.8-ubuntu-20.04.zip\"\n",
    "GDC_CLIENT_DIR=\"$HOME/Documents/mepylome\"\n",
    "GDC_CLIENT_BIN=\"$GDC_CLIENT_DIR/gdc-client\"\n",
    "\n",
    "# Download and set up the GDC client\n",
    "if [ ! -f \"$GDC_CLIENT_BIN\" ]; then\n",
    "    mkdir -p \"$GDC_CLIENT_DIR\"\n",
    "    cd \"$GDC_CLIENT_DIR\"\n",
    "    echo \"Downloading GDC client...\"\n",
    "    wget -q \"$GDC_CLIENT_URL\" -P \"$GDC_CLIENT_DIR\"\n",
    "    unzip -qo \"$GDC_CLIENT_DIR/*.zip\" -d \"$GDC_CLIENT_DIR\"\n",
    "    unzip -qo \"$GDC_CLIENT_DIR/*.zip\" -d \"$GDC_CLIENT_DIR\" > /dev/null 2>&1\n",
    "    rm -f \"$GDC_CLIENT_DIR\"/gdc-client*.zip\n",
    "    echo \"GDC client binary downloaded and set up at $GDC_CLIENT_BIN\"\n",
    "else\n",
    "    echo \"GDC client already exists at $GDC_CLIENT_BIN\"\n",
    "fi"
   ]
  },
  {
   "cell_type": "code",
   "execution_count": null,
   "id": "5b50b6f1",
   "metadata": {
    "lines_to_next_cell": 2
   },
   "outputs": [],
   "source": [
    "tumor_site = \"head_and_neck_scc\"\n",
    "analysis_dir = data_dir / tumor_site\n",
    "test_dir = tests_dir / tumor_site\n",
    "ensure_directory_exists(test_dir)\n",
    "idat_dir = analysis_dir / file_urls[tumor_site][\"idat_name\"]\n",
    "if not idat_dir.exists():\n",
    "    idat_tar_path = analysis_dir / \"tmp_idats.tar\"\n",
    "    download_file(file_urls[tumor_site][\"idat\"], idat_tar_path)\n",
    "    extract_tar(idat_tar_path, idat_dir)\n",
    "    idat_tar_path.unlink()"
   ]
  },
  {
   "cell_type": "markdown",
   "id": "1c25c2b0",
   "metadata": {},
   "source": [
    "### Create the Methylation Analysis Object\n",
    "\n",
    "The `MethylAnalysis` object serves as the main interface for performing DNA\n",
    "methylation analysis. Key parameters such as the directory structure, number\n",
    "of CpG sites, and UMAP settings are configured here."
   ]
  },
  {
   "cell_type": "code",
   "execution_count": null,
   "id": "4eb94405",
   "metadata": {},
   "outputs": [],
   "source": [
    "analysis = MethylAnalysis(\n",
    "    analysis_dir=analysis_dir,\n",
    "    reference_dir=reference_dir,\n",
    "    output_dir=output_dir,\n",
    "    test_dir=test_dir,\n",
    "    n_cpgs=25000,\n",
    "    load_full_betas=True,\n",
    "    overlap=False,\n",
    "    cpg_blacklist=blacklist,\n",
    "    debug=True,\n",
    "    do_seg=True,\n",
    "    umap_parms={\n",
    "        \"n_neighbors\": 8,\n",
    "        \"metric\": \"manhattan\",\n",
    "        \"min_dist\": 0.3,\n",
    "    },\n",
    ")\n",
    "\n",
    "analysis.set_betas()\n",
    "analysis.idat_handler.selected_columns = [\"Methylation class\"]"
   ]
  }
 ],
 "metadata": {
  "jupytext": {
   "cell_metadata_filter": "title,-all",
   "formats": "ipynb,auto:percent",
   "main_language": "python",
   "notebook_metadata_filter": "-all"
  },
  "kernelspec": {
   "display_name": "Python 3 (ipykernel)",
   "language": "python",
   "name": "python3"
  },
  "language_info": {
   "codemirror_mode": {
    "name": "ipython",
    "version": 3
   },
   "file_extension": ".py",
   "mimetype": "text/x-python",
   "name": "python",
   "nbconvert_exporter": "python",
   "pygments_lexer": "ipython3",
   "version": "3.12.7"
  }
 },
 "nbformat": 4,
 "nbformat_minor": 5
}
